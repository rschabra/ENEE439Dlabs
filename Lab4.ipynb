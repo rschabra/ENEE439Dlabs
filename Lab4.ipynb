{
  "nbformat": 4,
  "nbformat_minor": 0,
  "metadata": {
    "colab": {
      "provenance": [],
      "mount_file_id": "1rnQyw9jz--91d7y_GvMW2e2eVEdKZO3N",
      "authorship_tag": "ABX9TyMaJcdZBF+rEIvicMMQqJP7",
      "include_colab_link": true
    },
    "kernelspec": {
      "name": "python3",
      "display_name": "Python 3"
    },
    "language_info": {
      "name": "python"
    }
  },
  "cells": [
    {
      "cell_type": "markdown",
      "metadata": {
        "id": "view-in-github",
        "colab_type": "text"
      },
      "source": [
        "<a href=\"https://colab.research.google.com/github/rschabra/ENEE439Dlabs/blob/main/Lab4.ipynb\" target=\"_parent\"><img src=\"https://colab.research.google.com/assets/colab-badge.svg\" alt=\"Open In Colab\"/></a>"
      ]
    },
    {
      "cell_type": "markdown",
      "source": [
        "## Lab 4 Sine Wave/ECG Translation"
      ],
      "metadata": {
        "id": "3en5twGdYLoM"
      }
    },
    {
      "cell_type": "markdown",
      "source": [
        "Import necessary libraries"
      ],
      "metadata": {
        "id": "yItbEeStYHVl"
      }
    },
    {
      "cell_type": "code",
      "source": [
        "!pip install mat73"
      ],
      "metadata": {
        "id": "KM-BJSOUD1-0"
      },
      "execution_count": null,
      "outputs": []
    },
    {
      "cell_type": "code",
      "execution_count": 317,
      "metadata": {
        "id": "71c626bbac35"
      },
      "outputs": [],
      "source": [
        "import numpy as np\n",
        "import pandas as pd\n",
        "import tensorflow as tf\n",
        "from tensorflow import keras\n",
        "from tensorflow.keras import layers\n",
        "import matplotlib.pyplot as plt\n",
        "from statsmodels.tsa.ar_model import AR"
      ]
    },
    {
      "cell_type": "markdown",
      "source": [
        "Create Sin wave and train/test set. Create AR implementation."
      ],
      "metadata": {
        "id": "Og9lfrc1YZYd"
      }
    },
    {
      "cell_type": "code",
      "source": [
        "t = np.linspace(0,2*np.pi,10)\n",
        "sin_wave = np.sin(t)\n",
        "train_input = t[1:9]\n",
        "train_label = t[2:10]\n",
        "\n",
        "train_input_nn = np.array(train_input, dtype=float)\n",
        "train_label_nn = np.array(train_input, dtype=float)\n",
        "train_input_nn = train_input_nn.reshape((train_input_nn.shape[0], 1, 1))\n",
        "train_label_nn = train_label_nn.reshape((train_label_nn.shape[0], 1, 1))\n",
        "\n",
        "model_lstm = keras.Sequential()\n",
        "model_lstm.add(layers.LSTM(128))\n",
        "model_lstm.add(layers.Dense(1, activation='sigmoid'))\n",
        "model_lstm.compile(loss='binary_crossentropy', optimizer='adam')\n",
        "\n",
        "model_lstm.fit(train_input_nn, train_label_nn, epochs=30, verbose=2)"
      ],
      "metadata": {
        "colab": {
          "base_uri": "https://localhost:8080/"
        },
        "id": "fGqlPLD0rkdz",
        "outputId": "6f75d248-30af-4991-a444-3a9a85481739"
      },
      "execution_count": 267,
      "outputs": [
        {
          "output_type": "stream",
          "name": "stdout",
          "text": [
            "Epoch 1/30\n",
            "1/1 - 4s - loss: 0.3500 - 4s/epoch - 4s/step\n",
            "Epoch 2/30\n",
            "1/1 - 0s - loss: 0.2736 - 11ms/epoch - 11ms/step\n",
            "Epoch 3/30\n",
            "1/1 - 0s - loss: 0.1971 - 11ms/epoch - 11ms/step\n",
            "Epoch 4/30\n",
            "1/1 - 0s - loss: 0.1204 - 10ms/epoch - 10ms/step\n",
            "Epoch 5/30\n",
            "1/1 - 0s - loss: 0.0435 - 13ms/epoch - 13ms/step\n",
            "Epoch 6/30\n",
            "1/1 - 0s - loss: -3.3632e-02 - 11ms/epoch - 11ms/step\n",
            "Epoch 7/30\n",
            "1/1 - 0s - loss: -1.1099e-01 - 12ms/epoch - 12ms/step\n",
            "Epoch 8/30\n",
            "1/1 - 0s - loss: -1.8862e-01 - 16ms/epoch - 16ms/step\n",
            "Epoch 9/30\n",
            "1/1 - 0s - loss: -2.6654e-01 - 11ms/epoch - 11ms/step\n",
            "Epoch 10/30\n",
            "1/1 - 0s - loss: -3.4479e-01 - 11ms/epoch - 11ms/step\n",
            "Epoch 11/30\n",
            "1/1 - 0s - loss: -4.2341e-01 - 15ms/epoch - 15ms/step\n",
            "Epoch 12/30\n",
            "1/1 - 0s - loss: -5.0242e-01 - 11ms/epoch - 11ms/step\n",
            "Epoch 13/30\n",
            "1/1 - 0s - loss: -5.8187e-01 - 18ms/epoch - 18ms/step\n",
            "Epoch 14/30\n",
            "1/1 - 0s - loss: -6.6179e-01 - 11ms/epoch - 11ms/step\n",
            "Epoch 15/30\n",
            "1/1 - 0s - loss: -7.4222e-01 - 10ms/epoch - 10ms/step\n",
            "Epoch 16/30\n",
            "1/1 - 0s - loss: -8.2321e-01 - 10ms/epoch - 10ms/step\n",
            "Epoch 17/30\n",
            "1/1 - 0s - loss: -9.0478e-01 - 13ms/epoch - 13ms/step\n",
            "Epoch 18/30\n",
            "1/1 - 0s - loss: -9.8698e-01 - 13ms/epoch - 13ms/step\n",
            "Epoch 19/30\n",
            "1/1 - 0s - loss: -1.0698e+00 - 11ms/epoch - 11ms/step\n",
            "Epoch 20/30\n",
            "1/1 - 0s - loss: -1.1534e+00 - 10ms/epoch - 10ms/step\n",
            "Epoch 21/30\n",
            "1/1 - 0s - loss: -1.2377e+00 - 10ms/epoch - 10ms/step\n",
            "Epoch 22/30\n",
            "1/1 - 0s - loss: -1.3228e+00 - 11ms/epoch - 11ms/step\n",
            "Epoch 23/30\n",
            "1/1 - 0s - loss: -1.4086e+00 - 12ms/epoch - 12ms/step\n",
            "Epoch 24/30\n",
            "1/1 - 0s - loss: -1.4954e+00 - 12ms/epoch - 12ms/step\n",
            "Epoch 25/30\n",
            "1/1 - 0s - loss: -1.5830e+00 - 11ms/epoch - 11ms/step\n",
            "Epoch 26/30\n",
            "1/1 - 0s - loss: -1.6715e+00 - 11ms/epoch - 11ms/step\n",
            "Epoch 27/30\n",
            "1/1 - 0s - loss: -1.7609e+00 - 9ms/epoch - 9ms/step\n",
            "Epoch 28/30\n",
            "1/1 - 0s - loss: -1.8514e+00 - 10ms/epoch - 10ms/step\n",
            "Epoch 29/30\n",
            "1/1 - 0s - loss: -1.9429e+00 - 11ms/epoch - 11ms/step\n",
            "Epoch 30/30\n",
            "1/1 - 0s - loss: -2.0354e+00 - 11ms/epoch - 11ms/step\n"
          ]
        },
        {
          "output_type": "execute_result",
          "data": {
            "text/plain": [
              "<keras.callbacks.History at 0x7fc42dc381f0>"
            ]
          },
          "metadata": {},
          "execution_count": 267
        }
      ]
    },
    {
      "cell_type": "code",
      "source": [
        "model_ar = AR(train_input_nn)\n",
        "model_ar_fit = model_ar.fit(5)\n",
        "\n",
        "# make predictions\n",
        "predictions_ar = model_ar_fit.predict(start=8, end=15)"
      ],
      "metadata": {
        "colab": {
          "base_uri": "https://localhost:8080/"
        },
        "id": "ffCIxA4nYgPA",
        "outputId": "d078d112-bf1e-47f7-8403-cf3107e5a772"
      },
      "execution_count": 268,
      "outputs": [
        {
          "output_type": "stream",
          "name": "stderr",
          "text": [
            "/usr/local/lib/python3.8/dist-packages/statsmodels/tsa/ar_model.py:791: FutureWarning: \n",
            "statsmodels.tsa.AR has been deprecated in favor of statsmodels.tsa.AutoReg and\n",
            "statsmodels.tsa.SARIMAX.\n",
            "\n",
            "AutoReg adds the ability to specify exogenous variables, include time trends,\n",
            "and add seasonal dummies. The AutoReg API differs from AR since the model is\n",
            "treated as immutable, and so the entire specification including the lag\n",
            "length must be specified when creating the model. This change is too\n",
            "substantial to incorporate into the existing AR api. The function\n",
            "ar_select_order performs lag length selection for AutoReg models.\n",
            "\n",
            "AutoReg only estimates parameters using conditional MLE (OLS). Use SARIMAX to\n",
            "estimate ARX and related models using full MLE via the Kalman Filter.\n",
            "\n",
            "To silence this warning and continue using AR until it is removed, use:\n",
            "\n",
            "import warnings\n",
            "warnings.filterwarnings('ignore', 'statsmodels.tsa.ar_model.AR', FutureWarning)\n",
            "\n",
            "  warnings.warn(AR_DEPRECATION_WARN, FutureWarning)\n"
          ]
        }
      ]
    },
    {
      "cell_type": "code",
      "source": [
        "plt.plot(t,sin_wave,'o', label='Sin Wave', c='blue')\n",
        "plt.plot(t[1:9],predictions_ar,'o', c='red', label='AR')\n",
        "plt.plot(t[1:9], model_lstm.predict(train_input_nn), 'o', label='LSTM - RNN')\n",
        "plt.legend()\n",
        "plt.show()"
      ],
      "metadata": {
        "colab": {
          "base_uri": "https://localhost:8080/",
          "height": 282
        },
        "id": "xEzsSZSCikgK",
        "outputId": "f7412075-08ee-4b39-a890-d414adc44885"
      },
      "execution_count": 269,
      "outputs": [
        {
          "output_type": "stream",
          "name": "stdout",
          "text": [
            "1/1 [==============================] - 0s 476ms/step\n"
          ]
        },
        {
          "output_type": "display_data",
          "data": {
            "text/plain": [
              "<Figure size 432x288 with 1 Axes>"
            ],
            "image/png": "[encoded data removed]"
          },
          "metadata": {
            "needs_background": "light"
          }
        }
      ]
    },
    {
      "cell_type": "markdown",
      "source": [
        "This graph looks ok for the LSTM, but it seems the AutoRegression is much further.\n",
        "\n",
        "In the next couple code blocks, I will change around the maxlag value for the AutoRegression in order to improve our results."
      ],
      "metadata": {
        "id": "IuYhoM2Z2iCS"
      }
    },
    {
      "cell_type": "code",
      "source": [
        "model_ar = AR(train_input_nn)\n",
        "model_ar_fit = model_ar.fit(4)\n",
        "\n",
        "# make predictions\n",
        "predictions_ar = model_ar_fit.predict(start=8, end=15)"
      ],
      "metadata": {
        "id": "67cxaudL2hkX"
      },
      "execution_count": 247,
      "outputs": []
    },
    {
      "cell_type": "code",
      "source": [
        "plt.plot(t,sin_wave,'o', label='Sin Wave', c='blue')\n",
        "plt.plot(t[1:9],predictions_ar,'o', c='red', label='AR')\n",
        "plt.legend()\n",
        "plt.show()"
      ],
      "metadata": {
        "colab": {
          "base_uri": "https://localhost:8080/",
          "height": 265
        },
        "id": "vWUYWHD733Tz",
        "outputId": "974479db-99da-4d84-8442-103f974f625c"
      },
      "execution_count": 249,
      "outputs": [
        {
          "output_type": "display_data",
          "data": {
            "text/plain": [
              "<Figure size 432x288 with 1 Axes>"
            ],
            "image/png": "[encoded data removed]"
          },
          "metadata": {
            "needs_background": "light"
          }
        }
      ]
    },
    {
      "cell_type": "code",
      "source": [
        "model_ar = AR(train_input_nn)\n",
        "model_ar_fit = model_ar.fit(3)\n",
        "\n",
        "# make predictions\n",
        "predictions_ar = model_ar_fit.predict(start=8, end=15)"
      ],
      "metadata": {
        "id": "-LbMDDg231u0"
      },
      "execution_count": 250,
      "outputs": []
    },
    {
      "cell_type": "code",
      "source": [
        "plt.plot(t,sin_wave,'o', label='Sin Wave', c='blue')\n",
        "plt.plot(t[1:9],predictions_ar,'o', c='red', label='AR')\n",
        "plt.legend()\n",
        "plt.show()"
      ],
      "metadata": {
        "colab": {
          "base_uri": "https://localhost:8080/",
          "height": 265
        },
        "id": "xsOG1TNm4bBU",
        "outputId": "55211b2c-cc14-4cb4-f4fb-0f6bf76b7c35"
      },
      "execution_count": 251,
      "outputs": [
        {
          "output_type": "display_data",
          "data": {
            "text/plain": [
              "<Figure size 432x288 with 1 Axes>"
            ],
            "image/png": "[encoded data removed]"
          },
          "metadata": {
            "needs_background": "light"
          }
        }
      ]
    },
    {
      "cell_type": "markdown",
      "source": [
        "# Shifted and Scaled Sin Wave"
      ],
      "metadata": {
        "id": "zkF28nBW5I1y"
      }
    },
    {
      "cell_type": "code",
      "source": [
        "sin_wave = 10*np.sin(t-(np.pi/2))\n",
        "\n",
        "plt.plot(t,sin_wave,'-', label='Sin Wave', c='blue')\n",
        "plt.legend()\n",
        "plt.show()"
      ],
      "metadata": {
        "colab": {
          "base_uri": "https://localhost:8080/",
          "height": 266
        },
        "id": "Ic1D-qcW4kWz",
        "outputId": "b74a61ea-545b-47ee-b426-82ce4c8018bc"
      },
      "execution_count": 257,
      "outputs": [
        {
          "output_type": "display_data",
          "data": {
            "text/plain": [
              "<Figure size 432x288 with 1 Axes>"
            ],
            "image/png": "[encoded data removed]"
          },
          "metadata": {
            "needs_background": "light"
          }
        }
      ]
    },
    {
      "cell_type": "markdown",
      "source": [
        "# Adding Noise to Sin Wave"
      ],
      "metadata": {
        "id": "x6rWiSiS5NCL"
      }
    },
    {
      "cell_type": "code",
      "source": [
        "SNR = 3\n",
        "\n",
        "# Signal power\n",
        "signal_power = np.sum(sin_wave**2)/len(sin_wave)\n",
        "\n",
        "# Noise power\n",
        "n_pow = signal_power / SNR\n",
        "\n",
        "# Generate random Gaussian noise\n",
        "gauss_noise = np.random.randn(len(sin_wave))\n",
        "\n",
        "# Scale the noise amplitude\n",
        "noise = gauss_noise * np.sqrt(n_pow)\n",
        "\n",
        "# Add noise to the signal\n",
        "noisy_signal = sin_wave + noise\n",
        "\n",
        "\n",
        "plt.plot(t,noisy_signal,'o-', label='Sin Wave', c='blue')\n",
        "plt.legend()\n",
        "plt.show()"
      ],
      "metadata": {
        "colab": {
          "base_uri": "https://localhost:8080/",
          "height": 265
        },
        "id": "AydOXNtU5PQZ",
        "outputId": "97d99f2b-2793-4bb0-e490-9b32ee21132a"
      },
      "execution_count": 262,
      "outputs": [
        {
          "output_type": "display_data",
          "data": {
            "text/plain": [
              "<Figure size 432x288 with 1 Axes>"
            ],
            "image/png": "[encoded data removed]"
          },
          "metadata": {
            "needs_background": "light"
          }
        }
      ]
    },
    {
      "cell_type": "code",
      "source": [
        "train_input_nn = np.array(train_input, dtype=float)\n",
        "train_label_nn = np.array(train_input, dtype=float)\n",
        "train_input_nn = train_input_nn.reshape((train_input_nn.shape[0], 1, 1))\n",
        "train_label_nn = train_label_nn.reshape((train_label_nn.shape[0], 1, 1))\n",
        "\n",
        "model_lstm = keras.Sequential()\n",
        "model_lstm.add(layers.LSTM(128))\n",
        "model_lstm.add(layers.Dense(1, activation='sigmoid'))\n",
        "model_lstm.compile(loss='binary_crossentropy', optimizer='adam')\n",
        "\n",
        "model_lstm.fit(train_input_nn, train_label_nn, epochs=30, verbose=2)\n",
        "\n",
        "plt.plot(t,noisy_signal,'o', label='Noisy Sin Wave', c='blue')\n",
        "plt.plot(t[1:9], model_lstm.predict(train_input_nn),'o',label='Noise Predicted', c='red')\n",
        "plt.legend()\n",
        "plt.show()"
      ],
      "metadata": {
        "colab": {
          "base_uri": "https://localhost:8080/",
          "height": 1000
        },
        "id": "DAm0ILuG7Ux9",
        "outputId": "6b5a184e-acf7-4498-ea1f-9017234012f0"
      },
      "execution_count": 283,
      "outputs": [
        {
          "output_type": "stream",
          "name": "stdout",
          "text": [
            "Epoch 1/30\n",
            "1/1 - 6s - loss: 0.2918 - 6s/epoch - 6s/step\n",
            "Epoch 2/30\n",
            "1/1 - 0s - loss: 0.2197 - 13ms/epoch - 13ms/step\n",
            "Epoch 3/30\n",
            "1/1 - 0s - loss: 0.1477 - 10ms/epoch - 10ms/step\n",
            "Epoch 4/30\n",
            "1/1 - 0s - loss: 0.0756 - 10ms/epoch - 10ms/step\n",
            "Epoch 5/30\n",
            "1/1 - 0s - loss: 0.0035 - 10ms/epoch - 10ms/step\n",
            "Epoch 6/30\n",
            "1/1 - 0s - loss: -6.8693e-02 - 11ms/epoch - 11ms/step\n",
            "Epoch 7/30\n",
            "1/1 - 0s - loss: -1.4097e-01 - 12ms/epoch - 12ms/step\n",
            "Epoch 8/30\n",
            "1/1 - 0s - loss: -2.1337e-01 - 11ms/epoch - 11ms/step\n",
            "Epoch 9/30\n",
            "1/1 - 0s - loss: -2.8591e-01 - 10ms/epoch - 10ms/step\n",
            "Epoch 10/30\n",
            "1/1 - 0s - loss: -3.5863e-01 - 13ms/epoch - 13ms/step\n",
            "Epoch 11/30\n",
            "1/1 - 0s - loss: -4.3156e-01 - 10ms/epoch - 10ms/step\n",
            "Epoch 12/30\n",
            "1/1 - 0s - loss: -5.0473e-01 - 11ms/epoch - 11ms/step\n",
            "Epoch 13/30\n",
            "1/1 - 0s - loss: -5.7817e-01 - 10ms/epoch - 10ms/step\n",
            "Epoch 14/30\n",
            "1/1 - 0s - loss: -6.5191e-01 - 10ms/epoch - 10ms/step\n",
            "Epoch 15/30\n",
            "1/1 - 0s - loss: -7.2600e-01 - 11ms/epoch - 11ms/step\n",
            "Epoch 16/30\n",
            "1/1 - 0s - loss: -8.0046e-01 - 12ms/epoch - 12ms/step\n",
            "Epoch 17/30\n",
            "1/1 - 0s - loss: -8.7534e-01 - 10ms/epoch - 10ms/step\n",
            "Epoch 18/30\n",
            "1/1 - 0s - loss: -9.5067e-01 - 11ms/epoch - 11ms/step\n",
            "Epoch 19/30\n",
            "1/1 - 0s - loss: -1.0265e+00 - 12ms/epoch - 12ms/step\n",
            "Epoch 20/30\n",
            "1/1 - 0s - loss: -1.1029e+00 - 10ms/epoch - 10ms/step\n",
            "Epoch 21/30\n",
            "1/1 - 0s - loss: -1.1798e+00 - 10ms/epoch - 10ms/step\n",
            "Epoch 22/30\n",
            "1/1 - 0s - loss: -1.2574e+00 - 11ms/epoch - 11ms/step\n",
            "Epoch 23/30\n",
            "1/1 - 0s - loss: -1.3356e+00 - 10ms/epoch - 10ms/step\n",
            "Epoch 24/30\n",
            "1/1 - 0s - loss: -1.4145e+00 - 13ms/epoch - 13ms/step\n",
            "Epoch 25/30\n",
            "1/1 - 0s - loss: -1.4942e+00 - 10ms/epoch - 10ms/step\n",
            "Epoch 26/30\n",
            "1/1 - 0s - loss: -1.5747e+00 - 12ms/epoch - 12ms/step\n",
            "Epoch 27/30\n",
            "1/1 - 0s - loss: -1.6560e+00 - 11ms/epoch - 11ms/step\n",
            "Epoch 28/30\n",
            "1/1 - 0s - loss: -1.7381e+00 - 11ms/epoch - 11ms/step\n",
            "Epoch 29/30\n",
            "1/1 - 0s - loss: -1.8212e+00 - 12ms/epoch - 12ms/step\n",
            "Epoch 30/30\n",
            "1/1 - 0s - loss: -1.9052e+00 - 12ms/epoch - 12ms/step\n",
            "1/1 [==============================] - 1s 580ms/step\n"
          ]
        },
        {
          "output_type": "display_data",
          "data": {
            "text/plain": [
              "<Figure size 432x288 with 1 Axes>"
            ],
            "image/png": "[encoded data removed]"
          },
          "metadata": {
            "needs_background": "light"
          }
        }
      ]
    },
    {
      "cell_type": "code",
      "source": [
        "model_ar = AR(noisy_signal)\n",
        "model_ar_fit = model_ar.fit(4)\n",
        "\n",
        "# make predictions\n",
        "predictions_ar = model_ar_fit.predict(start=8, end=15)\n",
        "\n",
        "plt.plot(t,noisy_signal,'o', label='Sin Wave', c='blue')\n",
        "plt.plot(t[1:9],predictions_ar,'o', c='red', label='AR')\n",
        "plt.legend()\n",
        "plt.show()"
      ],
      "metadata": {
        "colab": {
          "base_uri": "https://localhost:8080/",
          "height": 612
        },
        "id": "CUAUn8xb9QYS",
        "outputId": "9cdbd75b-b7dd-4e93-bc6e-fd2d21728271"
      },
      "execution_count": 285,
      "outputs": [
        {
          "output_type": "stream",
          "name": "stderr",
          "text": [
            "/usr/local/lib/python3.8/dist-packages/statsmodels/tsa/ar_model.py:791: FutureWarning: \n",
            "statsmodels.tsa.AR has been deprecated in favor of statsmodels.tsa.AutoReg and\n",
            "statsmodels.tsa.SARIMAX.\n",
            "\n",
            "AutoReg adds the ability to specify exogenous variables, include time trends,\n",
            "and add seasonal dummies. The AutoReg API differs from AR since the model is\n",
            "treated as immutable, and so the entire specification including the lag\n",
            "length must be specified when creating the model. This change is too\n",
            "substantial to incorporate into the existing AR api. The function\n",
            "ar_select_order performs lag length selection for AutoReg models.\n",
            "\n",
            "AutoReg only estimates parameters using conditional MLE (OLS). Use SARIMAX to\n",
            "estimate ARX and related models using full MLE via the Kalman Filter.\n",
            "\n",
            "To silence this warning and continue using AR until it is removed, use:\n",
            "\n",
            "import warnings\n",
            "warnings.filterwarnings('ignore', 'statsmodels.tsa.ar_model.AR', FutureWarning)\n",
            "\n",
            "  warnings.warn(AR_DEPRECATION_WARN, FutureWarning)\n"
          ]
        },
        {
          "output_type": "display_data",
          "data": {
            "text/plain": [
              "<Figure size 432x288 with 1 Axes>"
            ],
            "image/png": "[encoded data removed]"
          },
          "metadata": {
            "needs_background": "light"
          }
        }
      ]
    },
    {
      "cell_type": "markdown",
      "source": [
        "## Part 2"
      ],
      "metadata": {
        "id": "ewUc29aQ9egB"
      }
    },
    {
      "cell_type": "markdown",
      "source": [
        "Load and Examine Data as created in Matlab (everything until the model was created)"
      ],
      "metadata": {
        "id": "GVYlSKy7Ac0F"
      }
    },
    {
      "cell_type": "code",
      "source": [
        "x_train = pd.read_csv('/content/mat/XTrain.csv')\n",
        "y_train = pd.read_csv('/content/mat/YTrain.csv')\n",
        "x_test = pd.read_csv('/content/mat/XTest.csv')\n",
        "y_test = pd.read_csv('/content/mat/YTest.csv')\n",
        "\n"
      ],
      "metadata": {
        "id": "LRQqimZm9hFC"
      },
      "execution_count": 318,
      "outputs": []
    },
    {
      "cell_type": "code",
      "source": [
        "print(x_train.head(10))"
      ],
      "metadata": {
        "colab": {
          "base_uri": "https://localhost:8080/"
        },
        "id": "G9nlfJ2dJFCM",
        "outputId": "fa4e51ba-58a4-4ef9-b95c-f2f900c8463b"
      },
      "execution_count": 319,
      "outputs": [
        {
          "output_type": "stream",
          "name": "stdout",
          "text": [
            "    519   619   723   827   914   956   955   934   920   900  ...  1142  \\\n",
            "0   -79   -79   -79   -77   -75   -72   -69   -65   -60   -55  ...  -423   \n",
            "1  -390  -462  -542  -626  -695  -719  -708  -693  -680  -665  ...   104   \n",
            "2 -1697 -2084 -2491 -2902 -3273 -3569 -3640 -3669 -3691 -3687  ...   -31   \n",
            "3  -281  -334  -393  -445  -463  -448  -401  -323  -249  -163  ...   296   \n",
            "4    17    19    21    22    24    25    26    26    26    25  ...  -152   \n",
            "5   -23   -29   -38   -47   -56   -62   -66   -68   -71   -72  ...     6   \n",
            "6  -123  -140  -152  -162  -170  -174  -171  -164  -155  -150  ...   -40   \n",
            "7  -885 -1059 -1229 -1396 -1540 -1617 -1625 -1600 -1600 -1636  ...  -121   \n",
            "8   485   579   681   786   874   913   922   928   934   942  ...     0   \n",
            "9  -102  -136  -153  -161  -167  -173  -177  -180  -181  -182  ...    49   \n",
            "\n",
            "   1144.2  1055  866.1  632  403  224.5  116.6  17.29  18.21  \n",
            "0    -385  -340   -289 -238 -187   -138    -93    -57      0  \n",
            "1      86    64     46   35   28     22     16      9      1  \n",
            "2     -36   -39    -42  -44  -43    -40    -34    -27    -22  \n",
            "3     396   487    530  530  485    387    263    134     34  \n",
            "4    -174  -183   -190 -189 -173   -147   -116    -83    -52  \n",
            "5       8    10     12   15   16     16     14     10      6  \n",
            "6     -37   -33    -28  -24  -18    -12     -7     -5     -3  \n",
            "7    -117  -110    -98  -79  -58    -41    -28    -15     -4  \n",
            "8       0     2      4    5    7      8     10     11     12  \n",
            "9      49    47     45   42   38     34     27     15      6  \n",
            "\n",
            "[10 rows x 9000 columns]\n"
          ]
        }
      ]
    },
    {
      "cell_type": "markdown",
      "source": [
        "Start building the model:"
      ],
      "metadata": {
        "id": "gwl994DzWvD_"
      }
    },
    {
      "cell_type": "code",
      "source": [
        "model = keras.Sequential()\n",
        "model.add(layers.LSTM(100, input_shape=(1000, 1)))\n",
        "model.add(layers.Dense(2,activation='sigmoid'))\n",
        "\n",
        "ad_op = keras.optimizers.Adam(learning_rate=0.01, clipnorm=1.0)\n",
        "# Compile the model\n",
        "model.compile(optimizer=ad_op,loss='categorical_crossentropy')\n",
        "\n",
        "# Train the model\n",
        "model.fit(x_train, y_train, epochs=10, batch_size=150)"
      ],
      "metadata": {
        "colab": {
          "base_uri": "https://localhost:8080/",
          "height": 623
        },
        "id": "bBMmE9nHWwwY",
        "outputId": "60213cc1-3671-4ba0-ae6a-8bb45d077e2c"
      },
      "execution_count": 363,
      "outputs": [
        {
          "output_type": "stream",
          "name": "stdout",
          "text": [
            "Epoch 1/10\n"
          ]
        },
        {
          "output_type": "error",
          "ename": "ValueError",
          "evalue": "ignored",
          "traceback": [
            "\u001b[0;31m---------------------------------------------------------------------------\u001b[0m",
            "\u001b[0;31mValueError\u001b[0m                                Traceback (most recent call last)",
            "\u001b[0;32m<ipython-input-363-43b09878af7f>\u001b[0m in \u001b[0;36m<module>\u001b[0;34m\u001b[0m\n\u001b[1;32m      8\u001b[0m \u001b[0;34m\u001b[0m\u001b[0m\n\u001b[1;32m      9\u001b[0m \u001b[0;31m# Train the model\u001b[0m\u001b[0;34m\u001b[0m\u001b[0;34m\u001b[0m\u001b[0;34m\u001b[0m\u001b[0m\n\u001b[0;32m---> 10\u001b[0;31m \u001b[0mmodel\u001b[0m\u001b[0;34m.\u001b[0m\u001b[0mfit\u001b[0m\u001b[0;34m(\u001b[0m\u001b[0mx_train\u001b[0m\u001b[0;34m,\u001b[0m \u001b[0my_train\u001b[0m\u001b[0;34m,\u001b[0m \u001b[0mepochs\u001b[0m\u001b[0;34m=\u001b[0m\u001b[0;36m10\u001b[0m\u001b[0;34m,\u001b[0m \u001b[0mbatch_size\u001b[0m\u001b[0;34m=\u001b[0m\u001b[0;36m150\u001b[0m\u001b[0;34m)\u001b[0m\u001b[0;34m\u001b[0m\u001b[0;34m\u001b[0m\u001b[0m\n\u001b[0m",
            "\u001b[0;32m/usr/local/lib/python3.8/dist-packages/keras/utils/traceback_utils.py\u001b[0m in \u001b[0;36merror_handler\u001b[0;34m(*args, **kwargs)\u001b[0m\n\u001b[1;32m     68\u001b[0m             \u001b[0;31m# To get the full stack trace, call:\u001b[0m\u001b[0;34m\u001b[0m\u001b[0;34m\u001b[0m\u001b[0;34m\u001b[0m\u001b[0m\n\u001b[1;32m     69\u001b[0m             \u001b[0;31m# `tf.debugging.disable_traceback_filtering()`\u001b[0m\u001b[0;34m\u001b[0m\u001b[0;34m\u001b[0m\u001b[0;34m\u001b[0m\u001b[0m\n\u001b[0;32m---> 70\u001b[0;31m             \u001b[0;32mraise\u001b[0m \u001b[0me\u001b[0m\u001b[0;34m.\u001b[0m\u001b[0mwith_traceback\u001b[0m\u001b[0;34m(\u001b[0m\u001b[0mfiltered_tb\u001b[0m\u001b[0;34m)\u001b[0m \u001b[0;32mfrom\u001b[0m \u001b[0;32mNone\u001b[0m\u001b[0;34m\u001b[0m\u001b[0;34m\u001b[0m\u001b[0m\n\u001b[0m\u001b[1;32m     71\u001b[0m         \u001b[0;32mfinally\u001b[0m\u001b[0;34m:\u001b[0m\u001b[0;34m\u001b[0m\u001b[0;34m\u001b[0m\u001b[0m\n\u001b[1;32m     72\u001b[0m             \u001b[0;32mdel\u001b[0m \u001b[0mfiltered_tb\u001b[0m\u001b[0;34m\u001b[0m\u001b[0;34m\u001b[0m\u001b[0m\n",
            "\u001b[0;32m/usr/local/lib/python3.8/dist-packages/keras/engine/training.py\u001b[0m in \u001b[0;36mtf__train_function\u001b[0;34m(iterator)\u001b[0m\n\u001b[1;32m     13\u001b[0m                 \u001b[0;32mtry\u001b[0m\u001b[0;34m:\u001b[0m\u001b[0;34m\u001b[0m\u001b[0;34m\u001b[0m\u001b[0m\n\u001b[1;32m     14\u001b[0m                     \u001b[0mdo_return\u001b[0m \u001b[0;34m=\u001b[0m \u001b[0;32mTrue\u001b[0m\u001b[0;34m\u001b[0m\u001b[0;34m\u001b[0m\u001b[0m\n\u001b[0;32m---> 15\u001b[0;31m                     \u001b[0mretval_\u001b[0m \u001b[0;34m=\u001b[0m \u001b[0mag__\u001b[0m\u001b[0;34m.\u001b[0m\u001b[0mconverted_call\u001b[0m\u001b[0;34m(\u001b[0m\u001b[0mag__\u001b[0m\u001b[0;34m.\u001b[0m\u001b[0mld\u001b[0m\u001b[0;34m(\u001b[0m\u001b[0mstep_function\u001b[0m\u001b[0;34m)\u001b[0m\u001b[0;34m,\u001b[0m \u001b[0;34m(\u001b[0m\u001b[0mag__\u001b[0m\u001b[0;34m.\u001b[0m\u001b[0mld\u001b[0m\u001b[0;34m(\u001b[0m\u001b[0mself\u001b[0m\u001b[0;34m)\u001b[0m\u001b[0;34m,\u001b[0m \u001b[0mag__\u001b[0m\u001b[0;34m.\u001b[0m\u001b[0mld\u001b[0m\u001b[0;34m(\u001b[0m\u001b[0miterator\u001b[0m\u001b[0;34m)\u001b[0m\u001b[0;34m)\u001b[0m\u001b[0;34m,\u001b[0m \u001b[0;32mNone\u001b[0m\u001b[0;34m,\u001b[0m \u001b[0mfscope\u001b[0m\u001b[0;34m)\u001b[0m\u001b[0;34m\u001b[0m\u001b[0;34m\u001b[0m\u001b[0m\n\u001b[0m\u001b[1;32m     16\u001b[0m                 \u001b[0;32mexcept\u001b[0m\u001b[0;34m:\u001b[0m\u001b[0;34m\u001b[0m\u001b[0;34m\u001b[0m\u001b[0m\n\u001b[1;32m     17\u001b[0m                     \u001b[0mdo_return\u001b[0m \u001b[0;34m=\u001b[0m \u001b[0;32mFalse\u001b[0m\u001b[0;34m\u001b[0m\u001b[0;34m\u001b[0m\u001b[0m\n",
            "\u001b[0;31mValueError\u001b[0m: in user code:\n\n    File \"/usr/local/lib/python3.8/dist-packages/keras/engine/training.py\", line 1249, in train_function  *\n        return step_function(self, iterator)\n    File \"/usr/local/lib/python3.8/dist-packages/keras/engine/training.py\", line 1233, in step_function  **\n        outputs = model.distribute_strategy.run(run_step, args=(data,))\n    File \"/usr/local/lib/python3.8/dist-packages/keras/engine/training.py\", line 1222, in run_step  **\n        outputs = model.train_step(data)\n    File \"/usr/local/lib/python3.8/dist-packages/keras/engine/training.py\", line 1023, in train_step\n        y_pred = self(x, training=True)\n    File \"/usr/local/lib/python3.8/dist-packages/keras/utils/traceback_utils.py\", line 70, in error_handler\n        raise e.with_traceback(filtered_tb) from None\n    File \"/usr/local/lib/python3.8/dist-packages/keras/engine/input_spec.py\", line 295, in assert_input_compatibility\n        raise ValueError(\n\n    ValueError: Input 0 of layer \"sequential_131\" is incompatible with the layer: expected shape=(None, 1000, 1), found shape=(None, 9000)\n"
          ]
        }
      ]
    }
  ]
}
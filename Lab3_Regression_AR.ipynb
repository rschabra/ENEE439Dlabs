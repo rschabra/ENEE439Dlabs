{
  "nbformat": 4,
  "nbformat_minor": 0,
  "metadata": {
    "kernelspec": {
      "display_name": "Python 3",
      "language": "python",
      "name": "python3"
    },
    "language_info": {
      "codemirror_mode": {
        "name": "ipython",
        "version": 3
      },
      "file_extension": ".py",
      "mimetype": "text/x-python",
      "name": "python",
      "nbconvert_exporter": "python",
      "pygments_lexer": "ipython3",
      "version": "3.6.1"
    },
    "colab": {
      "provenance": [],
      "include_colab_link": true
    },
    "accelerator": "GPU",
    "gpuClass": "premium"
  },
  "cells": [
    {
      "cell_type": "markdown",
      "metadata": {
        "id": "view-in-github",
        "colab_type": "text"
      },
      "source": [
        "<a href=\"https://colab.research.google.com/github/rschabra/ENEE439Dlabs/blob/main/Lab3_Regression_AR.ipynb\" target=\"_parent\"><img src=\"https://colab.research.google.com/assets/colab-badge.svg\" alt=\"Open In Colab\"/></a>"
      ]
    },
    {
      "cell_type": "code",
      "metadata": {
        "collapsed": true,
        "id": "zDXvc6shOoMK"
      },
      "source": [
        "import pandas as pd\n",
        "import numpy as np\n",
        "import statsmodels.formula.api as smf\n",
        "import matplotlib.pyplot as plt\n",
        "import warnings\n",
        "warnings.filterwarnings(\"ignore\")"
      ],
      "execution_count": 1,
      "outputs": []
    },
    {
      "cell_type": "code",
      "metadata": {
        "id": "XRehZntJUKK2",
        "colab": {
          "base_uri": "https://localhost:8080/"
        },
        "outputId": "de51944d-96c5-4cd2-bbda-5ca015463672"
      },
      "source": [
        "from google.colab import drive\n",
        "drive.mount('/content/drive')"
      ],
      "execution_count": 1,
      "outputs": [
        {
          "output_type": "stream",
          "name": "stdout",
          "text": [
            "Mounted at /content/drive\n"
          ]
        }
      ]
    },
    {
      "cell_type": "markdown",
      "metadata": {
        "id": "BGvilovROoMZ"
      },
      "source": [
        "# Part 1 - Regression\n"
      ]
    },
    {
      "cell_type": "markdown",
      "metadata": {
        "id": "NOgeHXcwD2pn"
      },
      "source": [
        "\n",
        "\n",
        "## 0. Load and visualize the data (Auto.csv)\n",
        "\n",
        "First, I simply read in the CSV placed in the content/csv folder of the drive. Then I printed out the first 10 entries in the table to visualize them.\n",
        "\n",
        "Then, as a secondary visualization, I plotted the first 10 entries' mpg against the name of the car."
      ]
    },
    {
      "cell_type": "code",
      "metadata": {
        "id": "brHw9eQVD8M5",
        "outputId": "f5077eb7-8e70-4fca-9e00-cc7d1f0bc745",
        "colab": {
          "base_uri": "https://localhost:8080/",
          "height": 830
        }
      },
      "source": [
        "# visualize the first 10 rows of the data table\n",
        "auto_dataset = pd.read_csv(\"/content/csv/Auto.csv\")\n",
        "\n",
        "print(auto_dataset.head(10))\n",
        "\n",
        "auto_ten = auto_dataset.head(10)\n",
        "\n",
        "plt.bar(auto_ten[\"name\"], auto_ten[\"mpg\"])\n",
        "plt.xticks(rotation=90)\n",
        "plt.xlabel(\"Car Model\")\n",
        "plt.ylabel(\"Miles per Gallon (mpg)\")\n",
        "plt.title(\"First 10 Rows of Auto.csv Dataset\")"
      ],
      "execution_count": 2,
      "outputs": [
        {
          "output_type": "stream",
          "name": "stdout",
          "text": [
            "    mpg  cylinders  displacement horsepower  weight  acceleration  year  \\\n",
            "0  18.0          8         307.0        130    3504          12.0    70   \n",
            "1  15.0          8         350.0        165    3693          11.5    70   \n",
            "2  18.0          8         318.0        150    3436          11.0    70   \n",
            "3  16.0          8         304.0        150    3433          12.0    70   \n",
            "4  17.0          8         302.0        140    3449          10.5    70   \n",
            "5  15.0          8         429.0        198    4341          10.0    70   \n",
            "6  14.0          8         454.0        220    4354           9.0    70   \n",
            "7  14.0          8         440.0        215    4312           8.5    70   \n",
            "8  14.0          8         455.0        225    4425          10.0    70   \n",
            "9  15.0          8         390.0        190    3850           8.5    70   \n",
            "\n",
            "   origin                       name  \n",
            "0       1  chevrolet chevelle malibu  \n",
            "1       1          buick skylark 320  \n",
            "2       1         plymouth satellite  \n",
            "3       1              amc rebel sst  \n",
            "4       1                ford torino  \n",
            "5       1           ford galaxie 500  \n",
            "6       1           chevrolet impala  \n",
            "7       1          plymouth fury iii  \n",
            "8       1           pontiac catalina  \n",
            "9       1         amc ambassador dpl  \n"
          ]
        },
        {
          "output_type": "execute_result",
          "data": {
            "text/plain": [
              "Text(0.5, 1.0, 'First 10 Rows of Auto.csv Dataset')"
            ]
          },
          "metadata": {},
          "execution_count": 2
        },
        {
          "output_type": "display_data",
          "data": {
            "text/plain": [
              "<Figure size 432x288 with 1 Axes>"
            ],
            "image/png": "[encoded data removed]"
          },
          "metadata": {
            "needs_background": "light"
          }
        }
      ]
    },
    {
      "cell_type": "markdown",
      "metadata": {
        "id": "6svjLjxj947e"
      },
      "source": [
        "## 1.Use single linear regression with respect to each of the predictors. \n",
        "\n",
        "Discuss your finding about which predictor(s) has(have) the strongest relation with the response.\n"
      ]
    },
    {
      "cell_type": "code",
      "metadata": {
        "id": "bBAuI-PZOoMa",
        "outputId": "17e5b0a6-72c5-4c48-8f83-e73088e9d82c",
        "colab": {
          "base_uri": "https://localhost:8080/"
        }
      },
      "source": [
        "# Grab the list of columns\n",
        "cols = auto_dataset.columns.tolist()\n",
        "\n",
        "# Iterate over each column (except for MPG) to run regression and print out model summary\n",
        "model = smf.ols(f\"mpg ~ {cols[1]}\", data=auto_dataset).fit()\n",
        "\n",
        "print(f\"\\nLinear Regression for MPG using Column: {cols[1]}\")\n",
        "print(model.summary())\n",
        "print(\"\\n\")"
      ],
      "execution_count": 3,
      "outputs": [
        {
          "output_type": "stream",
          "name": "stdout",
          "text": [
            "\n",
            "Linear Regression for MPG using Column: cylinders\n",
            "                            OLS Regression Results                            \n",
            "==============================================================================\n",
            "Dep. Variable:                    mpg   R-squared:                       0.603\n",
            "Model:                            OLS   Adj. R-squared:                  0.602\n",
            "Method:                 Least Squares   F-statistic:                     598.9\n",
            "Date:                Fri, 17 Feb 2023   Prob (F-statistic):           3.67e-81\n",
            "Time:                        17:36:15   Log-Likelihood:                -1196.4\n",
            "No. Observations:                 397   AIC:                             2397.\n",
            "Df Residuals:                     395   BIC:                             2405.\n",
            "Df Model:                           1                                         \n",
            "Covariance Type:            nonrobust                                         \n",
            "==============================================================================\n",
            "                 coef    std err          t      P>|t|      [0.025      0.975]\n",
            "------------------------------------------------------------------------------\n",
            "Intercept     43.0032      0.834     51.563      0.000      41.364      44.643\n",
            "cylinders     -3.5701      0.146    -24.473      0.000      -3.857      -3.283\n",
            "==============================================================================\n",
            "Omnibus:                       38.686   Durbin-Watson:                   1.016\n",
            "Prob(Omnibus):                  0.000   Jarque-Bera (JB):               53.253\n",
            "Skew:                           0.698   Prob(JB):                     2.73e-12\n",
            "Kurtosis:                       4.126   Cond. No.                         19.8\n",
            "==============================================================================\n",
            "\n",
            "Notes:\n",
            "[1] Standard Errors assume that the covariance matrix of the errors is correctly specified.\n",
            "\n",
            "\n"
          ]
        }
      ]
    },
    {
      "cell_type": "markdown",
      "source": [
        "R-squared = 0.603\n",
        "\n",
        "P > |t| = 0.000 (intercept)\n",
        "\n",
        "P > |t| = 0.000 (cylinders)"
      ],
      "metadata": {
        "id": "IdCEQo5qXfzf"
      }
    },
    {
      "cell_type": "code",
      "source": [
        "# Grab the list of columns\n",
        "cols = auto_dataset.columns.tolist()\n",
        "\n",
        "# Iterate over each column (except for MPG) to run regression and print out model summary\n",
        "model = smf.ols(f\"mpg ~ {cols[2]}\", data=auto_dataset).fit()\n",
        "\n",
        "print(f\"\\nLinear Regression for MPG using Column: {cols[2]}\")\n",
        "print(model.summary())\n",
        "print(\"\\n\")"
      ],
      "metadata": {
        "id": "oY35Y_fCV3_9",
        "outputId": "9870a564-4a21-435a-c851-1409ee9ee796",
        "colab": {
          "base_uri": "https://localhost:8080/"
        }
      },
      "execution_count": 11,
      "outputs": [
        {
          "output_type": "stream",
          "name": "stdout",
          "text": [
            "\n",
            "Linear Regression for MPG using Column: displacement\n",
            "                            OLS Regression Results                            \n",
            "==============================================================================\n",
            "Dep. Variable:                    mpg   R-squared:                       0.647\n",
            "Model:                            OLS   Adj. R-squared:                  0.646\n",
            "Method:                 Least Squares   F-statistic:                     724.4\n",
            "Date:                Fri, 17 Feb 2023   Prob (F-statistic):           2.25e-91\n",
            "Time:                        17:06:41   Log-Likelihood:                -1172.8\n",
            "No. Observations:                 397   AIC:                             2350.\n",
            "Df Residuals:                     395   BIC:                             2358.\n",
            "Df Model:                           1                                         \n",
            "Covariance Type:            nonrobust                                         \n",
            "================================================================================\n",
            "                   coef    std err          t      P>|t|      [0.025      0.975]\n",
            "--------------------------------------------------------------------------------\n",
            "Intercept       35.1883      0.493     71.433      0.000      34.220      36.157\n",
            "displacement    -0.0603      0.002    -26.914      0.000      -0.065      -0.056\n",
            "==============================================================================\n",
            "Omnibus:                       40.862   Durbin-Watson:                   0.920\n",
            "Prob(Omnibus):                  0.000   Jarque-Bera (JB):               59.120\n",
            "Skew:                           0.706   Prob(JB):                     1.45e-13\n",
            "Kurtosis:                       4.257   Cond. No.                         464.\n",
            "==============================================================================\n",
            "\n",
            "Notes:\n",
            "[1] Standard Errors assume that the covariance matrix of the errors is correctly specified.\n",
            "\n",
            "\n"
          ]
        }
      ]
    },
    {
      "cell_type": "markdown",
      "source": [
        "R-squared = 0.647\n",
        "\n",
        "P > |t| = 0.000 (intercept)\n",
        "\n",
        "P > |t| = 0.000 (displacement)"
      ],
      "metadata": {
        "id": "-yo0JJ9bXVvz"
      }
    },
    {
      "cell_type": "code",
      "source": [
        "# Grab the list of columns\n",
        "cols = auto_dataset.columns.tolist()\n",
        "\n",
        "# Iterate over each column (except for MPG) to run regression and print out model summary\n",
        "model = smf.ols(f\"mpg ~ {cols[3]}\", data=auto_dataset).fit()\n",
        "\n",
        "print(f\"\\nLinear Regression for MPG using Column: {cols[3]}\")\n",
        "print(model.summary())\n",
        "print(\"\\n\")"
      ],
      "metadata": {
        "id": "M8c34LSgV6Ue",
        "outputId": "63c60490-bc0d-4fc1-a7ab-fc2b6b6d07d4",
        "colab": {
          "base_uri": "https://localhost:8080/"
        }
      },
      "execution_count": 12,
      "outputs": [
        {
          "output_type": "stream",
          "name": "stdout",
          "text": [
            "\n",
            "Linear Regression for MPG using Column: horsepower\n",
            "                            OLS Regression Results                            \n",
            "==============================================================================\n",
            "Dep. Variable:                    mpg   R-squared:                       0.795\n",
            "Model:                            OLS   Adj. R-squared:                  0.731\n",
            "Method:                 Least Squares   F-statistic:                     12.60\n",
            "Date:                Fri, 17 Feb 2023   Prob (F-statistic):           2.79e-64\n",
            "Time:                        17:06:45   Log-Likelihood:                -1065.5\n",
            "No. Observations:                 397   AIC:                             2319.\n",
            "Df Residuals:                     303   BIC:                             2694.\n",
            "Df Model:                          93                                         \n",
            "Covariance Type:            nonrobust                                         \n",
            "=====================================================================================\n",
            "                        coef    std err          t      P>|t|      [0.025      0.975]\n",
            "-------------------------------------------------------------------------------------\n",
            "Intercept            19.5941      0.984     19.920      0.000      17.658      21.530\n",
            "horsepower[T.102]     0.4059      4.173      0.097      0.923      -7.806       8.618\n",
            "horsepower[T.103]     0.7059      4.173      0.169      0.866      -7.506       8.918\n",
            "horsepower[T.105]     0.9059      1.529      0.592      0.554      -2.103       3.915\n",
            "horsepower[T.107]     1.4059      4.173      0.337      0.736      -6.806       9.618\n",
            "horsepower[T.108]    -0.5941      4.173     -0.142      0.887      -8.806       7.618\n",
            "horsepower[T.110]     0.2392      1.372      0.174      0.862      -2.460       2.938\n",
            "horsepower[T.112]     0.0725      2.540      0.029      0.977      -4.925       5.070\n",
            "horsepower[T.113]     6.4059      4.173      1.535      0.126      -1.806      14.618\n",
            "horsepower[T.115]     5.1459      2.063      2.494      0.013       1.086       9.206\n",
            "horsepower[T.116]     5.8059      4.173      1.391      0.165      -2.406      14.018\n",
            "horsepower[T.120]    -1.0191      2.254     -0.452      0.651      -5.454       3.416\n",
            "horsepower[T.122]     0.4059      4.173      0.097      0.923      -7.806       8.618\n",
            "horsepower[T.125]     0.1392      2.540      0.055      0.956      -4.859       5.137\n",
            "horsepower[T.129]    -4.2941      3.032     -1.416      0.158     -10.260       1.672\n",
            "horsepower[T.130]    -4.3941      2.063     -2.130      0.034      -8.454      -0.334\n",
            "horsepower[T.132]    13.1059      4.173      3.140      0.002       4.894      21.318\n",
            "horsepower[T.133]    -3.3941      4.173     -0.813      0.417     -11.606       4.818\n",
            "horsepower[T.135]    -1.3941      4.173     -0.334      0.739      -9.606       6.818\n",
            "horsepower[T.137]    -5.5941      4.173     -1.340      0.181     -13.806       2.618\n",
            "horsepower[T.138]    -3.0941      4.173     -0.741      0.459     -11.306       5.118\n",
            "horsepower[T.139]    -0.4441      3.032     -0.146      0.884      -6.410       5.522\n",
            "horsepower[T.140]    -3.2513      1.821     -1.785      0.075      -6.835       0.333\n",
            "horsepower[T.142]    -4.0941      4.173     -0.981      0.327     -12.306       4.118\n",
            "horsepower[T.145]    -4.1370      1.821     -2.271      0.024      -7.721      -0.553\n",
            "horsepower[T.148]    -5.5941      4.173     -1.340      0.181     -13.806       2.618\n",
            "horsepower[T.149]    -3.5941      4.173     -0.861      0.390     -11.806       4.618\n",
            "horsepower[T.150]    -4.8896      1.310     -3.733      0.000      -7.467      -2.312\n",
            "horsepower[T.152]    -5.0941      4.173     -1.221      0.223     -13.306       3.118\n",
            "horsepower[T.153]    -5.5941      3.032     -1.845      0.066     -11.560       0.372\n",
            "horsepower[T.155]    -4.6441      3.032     -1.532      0.127     -10.610       1.322\n",
            "horsepower[T.158]    -6.5941      4.173     -1.580      0.115     -14.806       1.618\n",
            "horsepower[T.160]    -6.5941      3.032     -2.175      0.030     -12.560      -0.628\n",
            "horsepower[T.165]    -4.6691      2.254     -2.072      0.039      -9.104      -0.234\n",
            "horsepower[T.167]    -7.5941      4.173     -1.820      0.070     -15.806       0.618\n",
            "horsepower[T.170]    -5.0941      2.063     -2.469      0.014      -9.154      -1.034\n",
            "horsepower[T.175]    -6.1941      2.063     -3.002      0.003     -10.254      -2.134\n",
            "horsepower[T.180]    -6.0941      2.063     -2.954      0.003     -10.154      -2.034\n",
            "horsepower[T.190]    -5.0941      2.540     -2.006      0.046     -10.092      -0.096\n",
            "horsepower[T.193]   -10.5941      4.173     -2.539      0.012     -18.806      -2.382\n",
            "horsepower[T.198]    -6.0941      3.032     -2.010      0.045     -12.060      -0.128\n",
            "horsepower[T.200]    -9.5941      4.173     -2.299      0.022     -17.806      -1.382\n",
            "horsepower[T.208]    -8.5941      4.173     -2.059      0.040     -16.806      -0.382\n",
            "horsepower[T.210]    -8.5941      4.173     -2.059      0.040     -16.806      -0.382\n",
            "horsepower[T.215]    -7.2608      2.540     -2.859      0.005     -12.259      -2.263\n",
            "horsepower[T.220]    -5.5941      4.173     -1.340      0.181     -13.806       2.618\n",
            "horsepower[T.225]    -6.2608      2.540     -2.465      0.014     -11.259      -1.263\n",
            "horsepower[T.230]    -3.5941      4.173     -0.861      0.390     -11.806       4.618\n",
            "horsepower[T.46]      6.4059      3.032      2.113      0.035       0.440      12.372\n",
            "horsepower[T.48]     24.0059      2.540      9.452      0.000      19.008      29.004\n",
            "horsepower[T.49]      9.4059      4.173      2.254      0.025       1.194      17.618\n",
            "horsepower[T.52]     14.6059      2.254      6.481      0.000      10.171      19.041\n",
            "horsepower[T.53]     13.4059      3.032      4.422      0.000       7.440      19.372\n",
            "horsepower[T.54]      3.4059      4.173      0.816      0.415      -4.806      11.618\n",
            "horsepower[T.58]     17.9559      3.032      5.923      0.000      11.990      23.922\n",
            "horsepower[T.60]     12.5659      2.063      6.090      0.000       8.506      16.626\n",
            "horsepower[T.61]     12.4059      4.173      2.973      0.003       4.194      20.618\n",
            "horsepower[T.62]     14.1559      3.032      4.669      0.000       8.190      20.122\n",
            "horsepower[T.63]     14.8059      2.540      5.830      0.000       9.808      19.804\n",
            "horsepower[T.64]     19.4059      4.173      4.650      0.000      11.194      27.618\n",
            "horsepower[T.65]     15.8859      1.616      9.829      0.000      12.705      19.066\n",
            "horsepower[T.66]     16.5059      4.173      3.955      0.000       8.294      24.718\n",
            "horsepower[T.67]     13.9975      1.529      9.154      0.000      10.989      17.007\n",
            "horsepower[T.68]     12.5892      1.926      6.537      0.000       8.799      16.379\n",
            "horsepower[T.69]     13.1725      2.540      5.187      0.000       8.175      18.170\n",
            "horsepower[T.70]     12.8809      1.529      8.424      0.000       9.872      15.890\n",
            "horsepower[T.71]      9.4259      2.063      4.568      0.000       5.366      13.486\n",
            "horsepower[T.72]      2.3892      1.926      1.241      0.216      -1.401       6.179\n",
            "horsepower[T.74]     13.9392      2.540      5.488      0.000       8.941      18.937\n",
            "horsepower[T.75]      9.4416      1.464      6.451      0.000       6.561      12.322\n",
            "horsepower[T.76]     11.4559      2.254      5.083      0.000       7.021      15.891\n",
            "horsepower[T.77]      5.8059      4.173      1.391      0.165      -2.406      14.018\n",
            "horsepower[T.78]      7.2059      1.926      3.742      0.000       3.416      10.996\n",
            "horsepower[T.79]      7.4059      3.032      2.443      0.015       1.440      13.372\n",
            "horsepower[T.80]      9.0059      1.821      4.945      0.000       5.422      12.590\n",
            "horsepower[T.81]      4.9059      3.032      1.618      0.107      -1.060      10.872\n",
            "horsepower[T.82]     11.4059      4.173      2.733      0.007       3.194      19.618\n",
            "horsepower[T.83]      8.5309      2.254      3.785      0.000       4.096      12.966\n",
            "horsepower[T.84]     10.5392      1.926      5.473      0.000       6.749      14.329\n",
            "horsepower[T.85]      3.8725      1.672      2.316      0.021       0.583       7.162\n",
            "horsepower[T.86]      4.6059      2.063      2.232      0.026       0.546       8.666\n",
            "horsepower[T.87]      3.4059      3.032      1.123      0.262      -2.560       9.372\n",
            "horsepower[T.88]      5.4848      1.354      4.051      0.000       2.820       8.149\n",
            "horsepower[T.89]      5.9059      4.173      1.415      0.158      -2.306      14.118\n",
            "horsepower[T.90]      4.7609      1.338      3.559      0.000       2.128       7.394\n",
            "horsepower[T.91]      0.4059      4.173      0.097      0.923      -7.806       8.618\n",
            "horsepower[T.92]      8.0392      1.926      4.174      0.000       4.249      11.829\n",
            "horsepower[T.93]      6.4059      4.173      1.535      0.126      -1.806      14.618\n",
            "horsepower[T.94]      2.4059      4.173      0.577      0.565      -5.806      10.618\n",
            "horsepower[T.95]      2.5202      1.464      1.722      0.086      -0.360       5.400\n",
            "horsepower[T.96]      7.5725      2.540      2.982      0.003       2.575      12.570\n",
            "horsepower[T.97]      2.5281      1.672      1.512      0.132      -0.762       5.818\n",
            "horsepower[T.98]      0.6559      3.032      0.216      0.829      -5.310       6.622\n",
            "horsepower[T.?]       9.4059      2.063      4.559      0.000       5.346      13.466\n",
            "==============================================================================\n",
            "Omnibus:                       52.669   Durbin-Watson:                   1.388\n",
            "Prob(Omnibus):                  0.000   Jarque-Bera (JB):               95.031\n",
            "Skew:                           0.773   Prob(JB):                     2.31e-21\n",
            "Kurtosis:                       4.831   Cond. No.                         49.7\n",
            "==============================================================================\n",
            "\n",
            "Notes:\n",
            "[1] Standard Errors assume that the covariance matrix of the errors is correctly specified.\n",
            "\n",
            "\n"
          ]
        }
      ]
    },
    {
      "cell_type": "markdown",
      "source": [
        "R-squared = 0.795\n",
        "\n",
        "P > |t| = 0.000 (intercept)"
      ],
      "metadata": {
        "id": "0SNdGduBXQ7R"
      }
    },
    {
      "cell_type": "code",
      "source": [
        "# Grab the list of columns\n",
        "cols = auto_dataset.columns.tolist()\n",
        "\n",
        "# Iterate over each column (except for MPG) to run regression and print out model summary\n",
        "model = smf.ols(f\"mpg ~ {cols[4]}\", data=auto_dataset).fit()\n",
        "\n",
        "print(f\"\\nLinear Regression for MPG using Column: {cols[4]}\")\n",
        "print(model.summary())\n",
        "print(\"\\n\")"
      ],
      "metadata": {
        "id": "HnG81N2ZWIgf",
        "outputId": "f5bc9a1f-8c97-4427-d253-4d8d2c4e6230",
        "colab": {
          "base_uri": "https://localhost:8080/"
        }
      },
      "execution_count": 13,
      "outputs": [
        {
          "output_type": "stream",
          "name": "stdout",
          "text": [
            "\n",
            "Linear Regression for MPG using Column: weight\n",
            "                            OLS Regression Results                            \n",
            "==============================================================================\n",
            "Dep. Variable:                    mpg   R-squared:                       0.692\n",
            "Model:                            OLS   Adj. R-squared:                  0.691\n",
            "Method:                 Least Squares   F-statistic:                     886.6\n",
            "Date:                Fri, 17 Feb 2023   Prob (F-statistic):          5.37e-103\n",
            "Time:                        17:07:38   Log-Likelihood:                -1146.0\n",
            "No. Observations:                 397   AIC:                             2296.\n",
            "Df Residuals:                     395   BIC:                             2304.\n",
            "Df Model:                           1                                         \n",
            "Covariance Type:            nonrobust                                         \n",
            "==============================================================================\n",
            "                 coef    std err          t      P>|t|      [0.025      0.975]\n",
            "------------------------------------------------------------------------------\n",
            "Intercept     46.3174      0.796     58.166      0.000      44.752      47.883\n",
            "weight        -0.0077      0.000    -29.776      0.000      -0.008      -0.007\n",
            "==============================================================================\n",
            "Omnibus:                       40.133   Durbin-Watson:                   0.797\n",
            "Prob(Omnibus):                  0.000   Jarque-Bera (JB):               56.057\n",
            "Skew:                           0.712   Prob(JB):                     6.72e-13\n",
            "Kurtosis:                       4.166   Cond. No.                     1.13e+04\n",
            "==============================================================================\n",
            "\n",
            "Notes:\n",
            "[1] Standard Errors assume that the covariance matrix of the errors is correctly specified.\n",
            "[2] The condition number is large, 1.13e+04. This might indicate that there are\n",
            "strong multicollinearity or other numerical problems.\n",
            "\n",
            "\n"
          ]
        }
      ]
    },
    {
      "cell_type": "markdown",
      "source": [
        "R-squared = 0.692\n",
        "\n",
        "P > |t| = 0.000 (intercept)\n",
        "\n",
        "P > |t| = 0.000 (weight)"
      ],
      "metadata": {
        "id": "4zKjmMqQXNCd"
      }
    },
    {
      "cell_type": "code",
      "source": [
        "# Grab the list of columns\n",
        "cols = auto_dataset.columns.tolist()\n",
        "\n",
        "# Iterate over each column (except for MPG) to run regression and print out model summary\n",
        "model = smf.ols(f\"mpg ~ {cols[5]}\", data=auto_dataset).fit()\n",
        "\n",
        "print(f\"\\nLinear Regression for MPG using Column: {cols[5]}\")\n",
        "print(model.summary())\n",
        "print(\"\\n\")"
      ],
      "metadata": {
        "id": "wDzwljgfWK1b",
        "outputId": "ef450282-d559-4d57-ea72-42263057a924",
        "colab": {
          "base_uri": "https://localhost:8080/"
        }
      },
      "execution_count": 14,
      "outputs": [
        {
          "output_type": "stream",
          "name": "stdout",
          "text": [
            "\n",
            "Linear Regression for MPG using Column: acceleration\n",
            "                            OLS Regression Results                            \n",
            "==============================================================================\n",
            "Dep. Variable:                    mpg   R-squared:                       0.178\n",
            "Model:                            OLS   Adj. R-squared:                  0.176\n",
            "Method:                 Least Squares   F-statistic:                     85.73\n",
            "Date:                Fri, 17 Feb 2023   Prob (F-statistic):           1.33e-18\n",
            "Time:                        17:07:49   Log-Likelihood:                -1340.6\n",
            "No. Observations:                 397   AIC:                             2685.\n",
            "Df Residuals:                     395   BIC:                             2693.\n",
            "Df Model:                           1                                         \n",
            "Covariance Type:            nonrobust                                         \n",
            "================================================================================\n",
            "                   coef    std err          t      P>|t|      [0.025      0.975]\n",
            "--------------------------------------------------------------------------------\n",
            "Intercept        4.8218      2.050      2.352      0.019       0.791       8.852\n",
            "acceleration     1.2018      0.130      9.259      0.000       0.947       1.457\n",
            "==============================================================================\n",
            "Omnibus:                       17.047   Durbin-Watson:                   0.670\n",
            "Prob(Omnibus):                  0.000   Jarque-Bera (JB):               17.752\n",
            "Skew:                           0.491   Prob(JB):                     0.000140\n",
            "Kurtosis:                       2.672   Cond. No.                         91.2\n",
            "==============================================================================\n",
            "\n",
            "Notes:\n",
            "[1] Standard Errors assume that the covariance matrix of the errors is correctly specified.\n",
            "\n",
            "\n"
          ]
        }
      ]
    },
    {
      "cell_type": "markdown",
      "source": [
        "R-squared = 0.178\n",
        "\n",
        "P > |t| = 0.019 (intercept)\n",
        "\n",
        "P > |t| = 0.000 (acceleration)"
      ],
      "metadata": {
        "id": "TATJI9pbXFZZ"
      }
    },
    {
      "cell_type": "code",
      "source": [
        "# Grab the list of columns\n",
        "cols = auto_dataset.columns.tolist()\n",
        "\n",
        "# Iterate over each column (except for MPG) to run regression and print out model summary\n",
        "model = smf.ols(f\"mpg ~ {cols[6]}\", data=auto_dataset).fit()\n",
        "\n",
        "print(f\"\\nLinear Regression for MPG using Column: {cols[6]}\")\n",
        "print(model.summary())\n",
        "print(\"\\n\")"
      ],
      "metadata": {
        "id": "VbtlTJM5WNLS",
        "outputId": "d53c4025-0971-429d-b7d3-10210a7977ff",
        "colab": {
          "base_uri": "https://localhost:8080/"
        }
      },
      "execution_count": 15,
      "outputs": [
        {
          "output_type": "stream",
          "name": "stdout",
          "text": [
            "\n",
            "Linear Regression for MPG using Column: year\n",
            "                            OLS Regression Results                            \n",
            "==============================================================================\n",
            "Dep. Variable:                    mpg   R-squared:                       0.338\n",
            "Model:                            OLS   Adj. R-squared:                  0.336\n",
            "Method:                 Least Squares   F-statistic:                     201.8\n",
            "Date:                Fri, 17 Feb 2023   Prob (F-statistic):           2.77e-37\n",
            "Time:                        17:08:00   Log-Likelihood:                -1297.7\n",
            "No. Observations:                 397   AIC:                             2599.\n",
            "Df Residuals:                     395   BIC:                             2607.\n",
            "Df Model:                           1                                         \n",
            "Covariance Type:            nonrobust                                         \n",
            "==============================================================================\n",
            "                 coef    std err          t      P>|t|      [0.025      0.975]\n",
            "------------------------------------------------------------------------------\n",
            "Intercept    -70.2001      6.605    -10.628      0.000     -83.186     -57.214\n",
            "year           1.2332      0.087     14.205      0.000       1.063       1.404\n",
            "==============================================================================\n",
            "Omnibus:                       22.297   Durbin-Watson:                   0.772\n",
            "Prob(Omnibus):                  0.000   Jarque-Bera (JB):               15.960\n",
            "Skew:                           0.379   Prob(JB):                     0.000342\n",
            "Kurtosis:                       2.376   Cond. No.                     1.57e+03\n",
            "==============================================================================\n",
            "\n",
            "Notes:\n",
            "[1] Standard Errors assume that the covariance matrix of the errors is correctly specified.\n",
            "[2] The condition number is large, 1.57e+03. This might indicate that there are\n",
            "strong multicollinearity or other numerical problems.\n",
            "\n",
            "\n"
          ]
        }
      ]
    },
    {
      "cell_type": "markdown",
      "source": [
        "R-squared = 0.338\n",
        "\n",
        "P > |t| = 0.000"
      ],
      "metadata": {
        "id": "HycxG39zXDLN"
      }
    },
    {
      "cell_type": "code",
      "source": [
        "# Grab the list of columns\n",
        "cols = auto_dataset.columns.tolist()\n",
        "\n",
        "# Iterate over each column (except for MPG) to run regression and print out model summary\n",
        "model = smf.ols(f\"mpg ~ {cols[7]}\", data=auto_dataset).fit()\n",
        "\n",
        "print(f\"\\nLinear Regression for MPG using Column: {cols[7]}\")\n",
        "print(model.summary())\n",
        "print(\"\\n\")"
      ],
      "metadata": {
        "id": "lDrw5eD2WQfi",
        "outputId": "cf4ae6ea-9acc-4684-b987-fe00bdf42780",
        "colab": {
          "base_uri": "https://localhost:8080/"
        }
      },
      "execution_count": 16,
      "outputs": [
        {
          "output_type": "stream",
          "name": "stdout",
          "text": [
            "\n",
            "Linear Regression for MPG using Column: origin\n",
            "                            OLS Regression Results                            \n",
            "==============================================================================\n",
            "Dep. Variable:                    mpg   R-squared:                       0.318\n",
            "Model:                            OLS   Adj. R-squared:                  0.316\n",
            "Method:                 Least Squares   F-statistic:                     184.0\n",
            "Date:                Fri, 17 Feb 2023   Prob (F-statistic):           1.13e-34\n",
            "Time:                        17:08:12   Log-Likelihood:                -1303.7\n",
            "No. Observations:                 397   AIC:                             2611.\n",
            "Df Residuals:                     395   BIC:                             2619.\n",
            "Df Model:                           1                                         \n",
            "Covariance Type:            nonrobust                                         \n",
            "==============================================================================\n",
            "                 coef    std err          t      P>|t|      [0.025      0.975]\n",
            "------------------------------------------------------------------------------\n",
            "Intercept     14.8623      0.716     20.760      0.000      13.455      16.270\n",
            "origin         5.4967      0.405     13.564      0.000       4.700       6.293\n",
            "==============================================================================\n",
            "Omnibus:                       25.749   Durbin-Watson:                   0.825\n",
            "Prob(Omnibus):                  0.000   Jarque-Bera (JB):               29.291\n",
            "Skew:                           0.663   Prob(JB):                     4.36e-07\n",
            "Kurtosis:                       3.104   Cond. No.                         4.94\n",
            "==============================================================================\n",
            "\n",
            "Notes:\n",
            "[1] Standard Errors assume that the covariance matrix of the errors is correctly specified.\n",
            "\n",
            "\n"
          ]
        }
      ]
    },
    {
      "cell_type": "markdown",
      "source": [
        "R-squared = 0.318\n",
        "\n",
        "P > |t| = 0.000"
      ],
      "metadata": {
        "id": "wtWZPKUZW_d-"
      }
    },
    {
      "cell_type": "code",
      "source": [
        "# Grab the list of columns\n",
        "cols = auto_dataset.columns.tolist()\n",
        "\n",
        "# Iterate over each column (except for MPG) to run regression and print out model summary\n",
        "model = smf.ols(f\"mpg ~ {cols[8]}\", data=auto_dataset).fit()\n",
        "\n",
        "print(f\"\\nLinear Regression for MPG using Column: {cols[8]}\")\n",
        "print(model.summary())\n",
        "print(\"\\n\")"
      ],
      "metadata": {
        "id": "5z8pqvLoWTWe",
        "outputId": "08e1b5b5-d9dd-43fb-cd50-733c14cb9bf8",
        "colab": {
          "base_uri": "https://localhost:8080/"
        }
      },
      "execution_count": 17,
      "outputs": [
        {
          "output_type": "stream",
          "name": "stdout",
          "text": [
            "\n",
            "Linear Regression for MPG using Column: name\n",
            "                            OLS Regression Results                            \n",
            "==============================================================================\n",
            "Dep. Variable:                    mpg   R-squared:                       0.968\n",
            "Model:                            OLS   Adj. R-squared:                  0.862\n",
            "Method:                 Least Squares   F-statistic:                     9.154\n",
            "Date:                Fri, 17 Feb 2023   Prob (F-statistic):           1.73e-26\n",
            "Time:                        17:08:26   Log-Likelihood:                -699.09\n",
            "No. Observations:                 397   AIC:                             2006.\n",
            "Df Residuals:                      93   BIC:                             3217.\n",
            "Df Model:                         303                                         \n",
            "Covariance Type:            nonrobust                                         \n",
            "================================================================================================================\n",
            "                                                   coef    std err          t      P>|t|      [0.025      0.975]\n",
            "----------------------------------------------------------------------------------------------------------------\n",
            "Intercept                                       13.0000      2.909      4.470      0.000       7.224      18.776\n",
            "name[T.amc ambassador dpl]                       2.0000      4.113      0.486      0.628      -6.168      10.168\n",
            "name[T.amc ambassador sst]                       4.0000      4.113      0.972      0.333      -4.168      12.168\n",
            "name[T.amc concord]                              8.8500      3.562      2.484      0.015       1.776      15.924\n",
            "name[T.amc concord d/l]                          5.1000      4.113      1.240      0.218      -3.068      13.268\n",
            "name[T.amc concord dl 6]                         7.2000      4.113      1.750      0.083      -0.968      15.368\n",
            "name[T.amc gremlin]                              6.5000      3.252      1.999      0.049       0.042      12.958\n",
            "name[T.amc hornet]                               6.3750      3.252      1.960      0.053      -0.083      12.833\n",
            "name[T.amc hornet sportabout (sw)]               5.0000      4.113      1.216      0.227      -3.168      13.168\n",
            "name[T.amc matador]                              2.7000      3.186      0.847      0.399      -3.627       9.027\n",
            "name[T.amc matador (sw)]                         1.5000      3.562      0.421      0.675      -5.574       8.574\n",
            "name[T.amc pacer]                                6.0000      4.113      1.459      0.148      -2.168      14.168\n",
            "name[T.amc pacer d/l]                            4.5000      4.113      1.094      0.277      -3.668      12.668\n",
            "name[T.amc rebel sst]                            3.0000      4.113      0.729      0.468      -5.168      11.168\n",
            "name[T.amc spirit dl]                           14.4000      4.113      3.501      0.001       6.232      22.568\n",
            "name[T.audi 100 ls]                             11.0000      4.113      2.674      0.009       2.832      19.168\n",
            "name[T.audi 100ls]                               8.5000      3.562      2.386      0.019       1.426      15.574\n",
            "name[T.audi 4000]                               21.3000      4.113      5.178      0.000      13.132      29.468\n",
            "name[T.audi 5000]                                7.3000      4.113      1.775      0.079      -0.868      15.468\n",
            "name[T.audi 5000s (diesel)]                     23.4000      4.113      5.689      0.000      15.232      31.568\n",
            "name[T.audi fox]                                16.0000      4.113      3.890      0.000       7.832      24.168\n",
            "name[T.bmw 2002]                                13.0000      4.113      3.160      0.002       4.832      21.168\n",
            "name[T.bmw 320i]                                 8.5000      4.113      2.066      0.042       0.332      16.668\n",
            "name[T.buick century]                            6.7000      3.562      1.881      0.063      -0.374      13.774\n",
            "name[T.buick century 350]                     5.412e-14      4.113   1.32e-14      1.000      -8.168       8.168\n",
            "name[T.buick century limited]                   12.0000      4.113      2.917      0.004       3.832      20.168\n",
            "name[T.buick century luxus (sw)]              4.672e-14      4.113   1.14e-14      1.000      -8.168       8.168\n",
            "name[T.buick century special]                    7.6000      4.113      1.848      0.068      -0.568      15.768\n",
            "name[T.buick electra 225 custom]                -1.0000      4.113     -0.243      0.808      -9.168       7.168\n",
            "name[T.buick estate wagon (sw)]                  2.4500      3.562      0.688      0.493      -4.624       9.524\n",
            "name[T.buick lesabre custom]                  3.386e-14      4.113   8.23e-15      1.000      -8.168       8.168\n",
            "name[T.buick opel isuzu deluxe]                 17.0000      4.113      4.133      0.000       8.832      25.168\n",
            "name[T.buick regal sport coupe (turbo)]          4.7000      4.113      1.143      0.256      -3.468      12.868\n",
            "name[T.buick skyhawk]                            8.0000      4.113      1.945      0.055      -0.168      16.168\n",
            "name[T.buick skylark]                           10.5500      3.562      2.962      0.004       3.476      17.624\n",
            "name[T.buick skylark 320]                        2.0000      4.113      0.486      0.628      -6.168      10.168\n",
            "name[T.buick skylark limited]                   15.4000      4.113      3.744      0.000       7.232      23.568\n",
            "name[T.cadillac eldorado]                       10.0000      4.113      2.431      0.017       1.832      18.168\n",
            "name[T.cadillac seville]                         3.5000      4.113      0.851      0.397      -4.668      11.668\n",
            "name[T.capri ii]                                12.0000      4.113      2.917      0.004       3.832      20.168\n",
            "name[T.chevroelt chevelle malibu]                3.0000      4.113      0.729      0.468      -5.168      11.168\n",
            "name[T.chevrolet bel air]                        2.0000      4.113      0.486      0.628      -6.168      10.168\n",
            "name[T.chevrolet camaro]                        14.0000      4.113      3.404      0.001       5.832      22.168\n",
            "name[T.chevrolet caprice classic]                2.8333      3.359      0.844      0.401      -3.836       9.503\n",
            "name[T.chevrolet cavalier]                      15.0000      4.113      3.647      0.000       6.832      23.168\n",
            "name[T.chevrolet cavalier 2-door]               21.0000      4.113      5.105      0.000      12.832      29.168\n",
            "name[T.chevrolet cavalier wagon]                14.0000      4.113      3.404      0.001       5.832      22.168\n",
            "name[T.chevrolet chevelle concours (sw)]      8.165e-14      4.113   1.99e-14      1.000      -8.168       8.168\n",
            "name[T.chevrolet chevelle malibu]                4.5000      3.562      1.263      0.210      -2.574      11.574\n",
            "name[T.chevrolet chevelle malibu classic]        3.7500      3.562      1.053      0.295      -3.324      10.824\n",
            "name[T.chevrolet chevette]                      17.4000      3.252      5.351      0.000      10.942      23.858\n",
            "name[T.chevrolet citation]                      13.7667      3.359      4.099      0.000       7.097      20.436\n",
            "name[T.chevrolet concours]                       4.5000      4.113      1.094      0.277      -3.668      12.668\n",
            "name[T.chevrolet impala]                      1.077e-15      3.252   3.31e-16      1.000      -6.458       6.458\n",
            "name[T.chevrolet malibu]                         3.7500      3.562      1.053      0.295      -3.324      10.824\n",
            "name[T.chevrolet malibu classic (sw)]            6.2000      4.113      1.507      0.135      -1.968      14.368\n",
            "name[T.chevrolet monte carlo]                    2.0000      4.113      0.486      0.628      -6.168      10.168\n",
            "name[T.chevrolet monte carlo landau]             4.3500      3.562      1.221      0.225      -2.724      11.424\n",
            "name[T.chevrolet monte carlo s]                  2.0000      4.113      0.486      0.628      -6.168      10.168\n",
            "name[T.chevrolet monza 2+2]                      7.0000      4.113      1.702      0.092      -1.168      15.168\n",
            "name[T.chevrolet nova]                           5.3333      3.359      1.588      0.116      -1.336      12.003\n",
            "name[T.chevrolet nova custom]                    3.0000      4.113      0.729      0.468      -5.168      11.168\n",
            "name[T.chevrolet vega]                           9.0000      3.359      2.680      0.009       2.331      15.669\n",
            "name[T.chevrolet vega (sw)]                      9.0000      4.113      2.188      0.031       0.832      17.168\n",
            "name[T.chevrolet vega 2300]                     15.0000      4.113      3.647      0.000       6.832      23.168\n",
            "name[T.chevrolet woody]                         11.5000      4.113      2.796      0.006       3.332      19.668\n",
            "name[T.chevy c10]                             2.901e-14      4.113   7.05e-15      1.000      -8.168       8.168\n",
            "name[T.chevy c20]                               -3.0000      4.113     -0.729      0.468     -11.168       5.168\n",
            "name[T.chevy s-10]                              18.0000      4.113      4.376      0.000       9.832      26.168\n",
            "name[T.chrysler cordoba]                         2.5000      4.113      0.608      0.545      -5.668      10.668\n",
            "name[T.chrysler lebaron medallion]              13.0000      4.113      3.160      0.002       4.832      21.168\n",
            "name[T.chrysler lebaron salon]                   4.6000      4.113      1.118      0.266      -3.568      12.768\n",
            "name[T.chrysler lebaron town @ country (sw)]     5.5000      4.113      1.337      0.184      -2.668      13.668\n",
            "name[T.chrysler new yorker brougham]          6.329e-14      4.113   1.54e-14      1.000      -8.168       8.168\n",
            "name[T.chrysler newport royal]                 4.23e-14      4.113   1.03e-14      1.000      -8.168       8.168\n",
            "name[T.datsun 1200]                             22.0000      4.113      5.348      0.000      13.832      30.168\n",
            "name[T.datsun 200-sx]                           10.9000      4.113      2.650      0.009       2.732      19.068\n",
            "name[T.datsun 200sx]                            19.9000      4.113      4.838      0.000      11.732      28.068\n",
            "name[T.datsun 210]                              23.3000      3.562      6.541      0.000      16.226      30.374\n",
            "name[T.datsun 210 mpg]                          24.0000      4.113      5.835      0.000      15.832      32.168\n",
            "name[T.datsun 280-zx]                           19.7000      4.113      4.789      0.000      11.532      27.868\n",
            "name[T.datsun 310]                              24.2000      4.113      5.883      0.000      16.032      32.368\n",
            "name[T.datsun 310 gx]                           25.0000      4.113      6.078      0.000      16.832      33.168\n",
            "name[T.datsun 510]                              14.2000      4.113      3.452      0.001       6.032      22.368\n",
            "name[T.datsun 510 (sw)]                         15.0000      4.113      3.647      0.000       6.832      23.168\n",
            "name[T.datsun 510 hatchback]                    24.0000      4.113      5.835      0.000      15.832      32.168\n",
            "name[T.datsun 610]                               9.0000      4.113      2.188      0.031       0.832      17.168\n",
            "name[T.datsun 710]                              15.0000      3.562      4.211      0.000       7.926      22.074\n",
            "name[T.datsun 810]                               9.0000      4.113      2.188      0.031       0.832      17.168\n",
            "name[T.datsun 810 maxima]                       11.2000      4.113      2.723      0.008       3.032      19.368\n",
            "name[T.datsun b-210]                            19.0000      4.113      4.619      0.000      10.832      27.168\n",
            "name[T.datsun b210]                             18.0000      4.113      4.376      0.000       9.832      26.168\n",
            "name[T.datsun b210 gx]                          26.4000      4.113      6.418      0.000      18.232      34.568\n",
            "name[T.datsun f-10 hatchback]                   20.5000      4.113      4.984      0.000      12.332      28.668\n",
            "name[T.datsun pl510]                            14.0000      3.562      3.930      0.000       6.926      21.074\n",
            "name[T.dodge aries se]                          16.0000      4.113      3.890      0.000       7.832      24.168\n",
            "name[T.dodge aries wagon (sw)]                  12.8000      4.113      3.112      0.002       4.632      20.968\n",
            "name[T.dodge aspen]                              5.8500      3.562      1.642      0.104      -1.224      12.924\n",
            "name[T.dodge aspen 6]                            7.6000      4.113      1.848      0.068      -0.568      15.768\n",
            "name[T.dodge aspen se]                           7.0000      4.113      1.702      0.092      -1.168      15.168\n",
            "name[T.dodge challenger se]                      2.0000      4.113      0.486      0.628      -6.168      10.168\n",
            "name[T.dodge charger 2.2]                       23.0000      4.113      5.592      0.000      14.832      31.168\n",
            "name[T.dodge colt]                              14.3000      3.359      4.258      0.000       7.631      20.969\n",
            "name[T.dodge colt (sw)]                         15.0000      4.113      3.647      0.000       6.832      23.168\n",
            "name[T.dodge colt hardtop]                      12.0000      4.113      2.917      0.004       3.832      20.168\n",
            "name[T.dodge colt hatchback custom]             22.7000      4.113      5.519      0.000      14.532      30.868\n",
            "name[T.dodge colt m/m]                          20.5000      4.113      4.984      0.000      12.332      28.668\n",
            "name[T.dodge coronet brougham]                   3.0000      4.113      0.729      0.468      -5.168      11.168\n",
            "name[T.dodge coronet custom]                     2.0000      4.113      0.486      0.628      -6.168      10.168\n",
            "name[T.dodge coronet custom (sw)]                1.0000      4.113      0.243      0.808      -7.168       9.168\n",
            "name[T.dodge d100]                            4.861e-14      4.113   1.18e-14      1.000      -8.168       8.168\n",
            "name[T.dodge d200]                              -2.0000      4.113     -0.486      0.628     -10.168       6.168\n",
            "name[T.dodge dart custom]                        2.0000      4.113      0.486      0.628      -6.168      10.168\n",
            "name[T.dodge diplomat]                           6.4000      4.113      1.556      0.123      -1.768      14.568\n",
            "name[T.dodge magnum xe]                          4.5000      4.113      1.094      0.277      -3.668      12.668\n",
            "name[T.dodge monaco (sw)]                       -1.0000      4.113     -0.243      0.808      -9.168       7.168\n",
            "name[T.dodge monaco brougham]                    2.5000      4.113      0.608      0.545      -5.668      10.668\n",
            "name[T.dodge omni]                              17.9000      4.113      4.352      0.000       9.732      26.068\n",
            "name[T.dodge rampage]                           19.0000      4.113      4.619      0.000      10.832      27.168\n",
            "name[T.dodge st. regis]                          5.2000      4.113      1.264      0.209      -2.968      13.368\n",
            "name[T.fiat 124 sport coupe]                    13.0000      4.113      3.160      0.002       4.832      21.168\n",
            "name[T.fiat 124 tc]                             13.0000      4.113      3.160      0.002       4.832      21.168\n",
            "name[T.fiat 124b]                               17.0000      4.113      4.133      0.000       8.832      25.168\n",
            "name[T.fiat 128]                                13.5000      3.562      3.790      0.000       6.426      20.574\n",
            "name[T.fiat 131]                                15.0000      4.113      3.647      0.000       6.832      23.168\n",
            "name[T.fiat strada custom]                      24.3000      4.113      5.908      0.000      16.132      32.468\n",
            "name[T.fiat x1.9]                               18.0000      4.113      4.376      0.000       9.832      26.168\n",
            "name[T.ford country]                            -1.0000      4.113     -0.243      0.808      -9.168       7.168\n",
            "name[T.ford country squire (sw)]                 1.2500      3.562      0.351      0.726      -5.824       8.324\n",
            "name[T.ford escort 2h]                          16.9000      4.113      4.109      0.000       8.732      25.068\n",
            "name[T.ford escort 4w]                          21.4000      4.113      5.203      0.000      13.232      29.568\n",
            "name[T.ford f108]                             7.163e-14      4.113   1.74e-14      1.000      -8.168       8.168\n",
            "name[T.ford f250]                               -3.0000      4.113     -0.729      0.468     -11.168       5.168\n",
            "name[T.ford fairmont]                           13.4000      4.113      3.258      0.002       5.232      21.568\n",
            "name[T.ford fairmont (auto)]                     7.2000      4.113      1.750      0.083      -0.968      15.368\n",
            "name[T.ford fairmont (man)]                     12.1000      4.113      2.942      0.004       3.932      20.268\n",
            "name[T.ford fairmont 4]                          9.3000      4.113      2.261      0.026       1.132      17.468\n",
            "name[T.ford fairmont futura]                    11.0000      4.113      2.674      0.009       2.832      19.168\n",
            "name[T.ford fiesta]                             23.1000      4.113      5.616      0.000      14.932      31.268\n",
            "name[T.ford futura]                              5.1000      4.113      1.240      0.218      -3.068      13.268\n",
            "name[T.ford galaxie 500]                         1.3333      3.359      0.397      0.692      -5.336       8.003\n",
            "name[T.ford gran torino]                         1.8333      3.359      0.546      0.586      -4.836       8.503\n",
            "name[T.ford gran torino (sw)]                    0.5000      3.562      0.140      0.889      -6.574       7.574\n",
            "name[T.ford granada]                             5.5000      4.113      1.337      0.184      -2.668      13.668\n",
            "name[T.ford granada ghia]                        5.0000      4.113      1.216      0.227      -3.168      13.168\n",
            "name[T.ford granada gl]                          7.2000      4.113      1.750      0.083      -0.968      15.368\n",
            "name[T.ford granada l]                           9.0000      4.113      2.188      0.031       0.832      17.168\n",
            "name[T.ford ltd]                                 0.5000      3.562      0.140      0.889      -6.574       7.574\n",
            "name[T.ford ltd landau]                          4.6000      4.113      1.118      0.266      -3.568      12.768\n",
            "name[T.ford maverick]                            6.8000      3.186      2.134      0.035       0.473      13.127\n",
            "name[T.ford mustang]                             5.0000      4.113      1.216      0.227      -3.168      13.168\n",
            "name[T.ford mustang cobra]                      10.6000      4.113      2.577      0.012       2.432      18.768\n",
            "name[T.ford mustang gl]                         14.0000      4.113      3.404      0.001       5.832      22.168\n",
            "name[T.ford mustang ii]                        6.71e-14      4.113   1.63e-14      1.000      -8.168       8.168\n",
            "name[T.ford mustang ii 2+2]                     12.5000      4.113      3.039      0.003       4.332      20.668\n",
            "name[T.ford pinto]                               9.9167      3.142      3.157      0.002       3.678      16.155\n",
            "name[T.ford pinto (sw)]                          9.0000      4.113      2.188      0.031       0.832      17.168\n",
            "name[T.ford pinto runabout]                      8.0000      4.113      1.945      0.055      -0.168      16.168\n",
            "name[T.ford ranger]                             15.0000      4.113      3.647      0.000       6.832      23.168\n",
            "name[T.ford thunderbird]                         3.0000      4.113      0.729      0.468      -5.168      11.168\n",
            "name[T.ford torino]                              4.0000      4.113      0.972      0.333      -4.168      12.168\n",
            "name[T.ford torino 500]                          6.0000      4.113      1.459      0.148      -2.168      14.168\n",
            "name[T.hi 1200d]                                -4.0000      4.113     -0.972      0.333     -12.168       4.168\n",
            "name[T.honda accord]                            21.2000      3.562      5.951      0.000      14.126      28.274\n",
            "name[T.honda accord cvcc]                       18.5000      4.113      4.498      0.000      10.332      26.668\n",
            "name[T.honda accord lx]                         16.5000      4.113      4.011      0.000       8.332      24.668\n",
            "name[T.honda civic]                             18.6667      3.359      5.558      0.000      11.997      25.336\n",
            "name[T.honda civic (auto)]                      19.0000      4.113      4.619      0.000      10.832      27.168\n",
            "name[T.honda civic 1300]                        22.1000      4.113      5.373      0.000      13.932      30.268\n",
            "name[T.honda civic 1500 gl]                     31.6000      4.113      7.682      0.000      23.432      39.768\n",
            "name[T.honda civic cvcc]                        21.5500      3.562      6.050      0.000      14.476      28.624\n",
            "name[T.honda prelude]                           20.7000      4.113      5.032      0.000      12.532      28.868\n",
            "name[T.maxda glc deluxe]                        21.1000      4.113      5.130      0.000      12.932      29.268\n",
            "name[T.maxda rx3]                                5.0000      4.113      1.216      0.227      -3.168      13.168\n",
            "name[T.mazda 626]                               18.4500      3.562      5.179      0.000      11.376      25.524\n",
            "name[T.mazda glc]                               33.6000      4.113      8.169      0.000      25.432      41.768\n",
            "name[T.mazda glc 4]                             21.1000      4.113      5.130      0.000      12.932      29.268\n",
            "name[T.mazda glc custom]                        18.0000      4.113      4.376      0.000       9.832      26.168\n",
            "name[T.mazda glc custom l]                      24.0000      4.113      5.835      0.000      15.832      32.168\n",
            "name[T.mazda glc deluxe]                        19.8000      4.113      4.814      0.000      11.632      27.968\n",
            "name[T.mazda rx-4]                               8.5000      4.113      2.066      0.042       0.332      16.668\n",
            "name[T.mazda rx-7 gs]                           10.7000      4.113      2.601      0.011       2.532      18.868\n",
            "name[T.mazda rx2 coupe]                          6.0000      4.113      1.459      0.148      -2.168      14.168\n",
            "name[T.mercedes benz 300d]                      12.4000      4.113      3.015      0.003       4.232      20.568\n",
            "name[T.mercedes-benz 240d]                      17.0000      4.113      4.133      0.000       8.832      25.168\n",
            "name[T.mercedes-benz 280s]                       3.5000      4.113      0.851      0.397      -4.668      11.668\n",
            "name[T.mercury capri 2000]                      10.0000      4.113      2.431      0.017       1.832      18.168\n",
            "name[T.mercury capri v6]                         8.0000      4.113      1.945      0.055      -0.168      16.168\n",
            "name[T.mercury cougar brougham]                  2.0000      4.113      0.486      0.628      -6.168      10.168\n",
            "name[T.mercury grand marquis]                    3.5000      4.113      0.851      0.397      -4.668      11.668\n",
            "name[T.mercury lynx l]                          23.0000      4.113      5.592      0.000      14.832      31.168\n",
            "name[T.mercury marquis]                         -2.0000      4.113     -0.486      0.628     -10.168       6.168\n",
            "name[T.mercury marquis brougham]                -1.0000      4.113     -0.243      0.808      -9.168       7.168\n",
            "name[T.mercury monarch]                          2.0000      4.113      0.486      0.628      -6.168      10.168\n",
            "name[T.mercury monarch ghia]                     7.2000      4.113      1.750      0.083      -0.968      15.368\n",
            "name[T.mercury zephyr]                           7.8000      4.113      1.896      0.061      -0.368      15.968\n",
            "name[T.mercury zephyr 6]                         6.8000      4.113      1.653      0.102      -1.368      14.968\n",
            "name[T.nissan stanza xe]                        23.0000      4.113      5.592      0.000      14.832      31.168\n",
            "name[T.oldsmobile cutlass ciera (diesel)]       25.0000      4.113      6.078      0.000      16.832      33.168\n",
            "name[T.oldsmobile cutlass ls]                   13.6000      4.113      3.306      0.001       5.432      21.768\n",
            "name[T.oldsmobile cutlass salon brougham]        8.9000      3.562      2.498      0.014       1.826      15.974\n",
            "name[T.oldsmobile cutlass supreme]               4.0000      4.113      0.972      0.333      -4.168      12.168\n",
            "name[T.oldsmobile delta 88 royale]              -1.0000      4.113     -0.243      0.808      -9.168       7.168\n",
            "name[T.oldsmobile omega]                        -2.0000      4.113     -0.486      0.628     -10.168       6.168\n",
            "name[T.oldsmobile omega brougham]               13.8000      4.113      3.355      0.001       5.632      21.968\n",
            "name[T.oldsmobile starfire sx]                  10.8000      4.113      2.626      0.010       2.632      18.968\n",
            "name[T.oldsmobile vista cruiser]                -1.0000      4.113     -0.243      0.808      -9.168       7.168\n",
            "name[T.opel 1900]                               13.5000      3.562      3.790      0.000       6.426      20.574\n",
            "name[T.opel manta]                              12.0000      3.562      3.369      0.001       4.926      19.074\n",
            "name[T.peugeot 304]                             17.0000      4.113      4.133      0.000       8.832      25.168\n",
            "name[T.peugeot 504]                             10.5500      3.252      3.244      0.002       4.092      17.008\n",
            "name[T.peugeot 504 (sw)]                         8.0000      4.113      1.945      0.055      -0.168      16.168\n",
            "name[T.peugeot 505s turbo diesel]               15.1000      4.113      3.671      0.000       6.932      23.268\n",
            "name[T.peugeot 604sl]                            3.2000      4.113      0.778      0.439      -4.968      11.368\n",
            "name[T.plymouth 'cuda 340]                       1.0000      4.113      0.243      0.808      -7.168       9.168\n",
            "name[T.plymouth arrow gs]                       12.5000      4.113      3.039      0.003       4.332      20.668\n",
            "name[T.plymouth champ]                          26.0000      4.113      6.321      0.000      17.832      34.168\n",
            "name[T.plymouth cricket]                        13.0000      4.113      3.160      0.002       4.832      21.168\n",
            "name[T.plymouth custom suburb]                3.149e-14      4.113   7.66e-15      1.000      -8.168       8.168\n",
            "name[T.plymouth duster]                          8.6667      3.359      2.580      0.011       1.997      15.336\n",
            "name[T.plymouth fury]                            5.0000      4.113      1.216      0.227      -3.168      13.168\n",
            "name[T.plymouth fury gran sedan]                 1.0000      4.113      0.243      0.808      -7.168       9.168\n",
            "name[T.plymouth fury iii]                        1.3333      3.359      0.397      0.692      -5.336       8.003\n",
            "name[T.plymouth grand fury]                      3.0000      4.113      0.729      0.468      -5.168      11.168\n",
            "name[T.plymouth horizon]                        21.2000      4.113      5.154      0.000      13.032      29.368\n",
            "name[T.plymouth horizon 4]                      21.7000      4.113      5.276      0.000      13.532      29.868\n",
            "name[T.plymouth horizon miser]                  25.0000      4.113      6.078      0.000      16.832      33.168\n",
            "name[T.plymouth horizon tc3]                    21.5000      4.113      5.227      0.000      13.332      29.668\n",
            "name[T.plymouth reliant]                        15.6000      3.562      4.379      0.000       8.526      22.674\n",
            "name[T.plymouth sapporo]                        10.2000      4.113      2.480      0.015       2.032      18.368\n",
            "name[T.plymouth satellite]                       5.0000      4.113      1.216      0.227      -3.168      13.168\n",
            "name[T.plymouth satellite custom]                3.0000      4.113      0.729      0.468      -5.168      11.168\n",
            "name[T.plymouth satellite custom (sw)]           1.0000      4.113      0.243      0.808      -7.168       9.168\n",
            "name[T.plymouth satellite sebring]               5.0000      4.113      1.216      0.227      -3.168      13.168\n",
            "name[T.plymouth valiant]                         7.0000      3.562      1.965      0.052      -0.074      14.074\n",
            "name[T.plymouth valiant custom]                  6.0000      4.113      1.459      0.148      -2.168      14.168\n",
            "name[T.plymouth volare]                          7.5000      4.113      1.823      0.071      -0.668      15.668\n",
            "name[T.plymouth volare custom]                   6.0000      4.113      1.459      0.148      -2.168      14.168\n",
            "name[T.plymouth volare premier v8]            3.283e-14      4.113   7.98e-15      1.000      -8.168       8.168\n",
            "name[T.pontiac astro]                           10.0000      4.113      2.431      0.017       1.832      18.168\n",
            "name[T.pontiac catalina]                         1.6667      3.359      0.496      0.621      -5.003       8.336\n",
            "name[T.pontiac catalina brougham]                1.0000      4.113      0.243      0.808      -7.168       9.168\n",
            "name[T.pontiac firebird]                         6.0000      4.113      1.459      0.148      -2.168      14.168\n",
            "name[T.pontiac grand prix]                       3.0000      4.113      0.729      0.468      -5.168      11.168\n",
            "name[T.pontiac grand prix lj]                    3.0000      4.113      0.729      0.468      -5.168      11.168\n",
            "name[T.pontiac j2000 se hatchback]              18.0000      4.113      4.376      0.000       9.832      26.168\n",
            "name[T.pontiac lemans v6]                        8.5000      4.113      2.066      0.042       0.332      16.668\n",
            "name[T.pontiac phoenix]                         17.2500      3.562      4.842      0.000      10.176      24.324\n",
            "name[T.pontiac phoenix lj]                       6.2000      4.113      1.507      0.135      -1.968      14.368\n",
            "name[T.pontiac safari (sw)]                   8.181e-14      4.113   1.99e-14      1.000      -8.168       8.168\n",
            "name[T.pontiac sunbird coupe]                   11.5000      4.113      2.796      0.006       3.332      19.668\n",
            "name[T.pontiac ventura sj]                       5.5000      4.113      1.337      0.184      -2.668      13.668\n",
            "name[T.renault 12 (sw)]                         13.0000      4.113      3.160      0.002       4.832      21.168\n",
            "name[T.renault 12tl]                            14.0000      4.113      3.404      0.001       5.832      22.168\n",
            "name[T.renault 18i]                             21.5000      4.113      5.227      0.000      13.332      29.668\n",
            "name[T.renault 5 gtl]                           23.0000      4.113      5.592      0.000      14.832      31.168\n",
            "name[T.renault lecar deluxe]                    27.9000      4.113      6.783      0.000      19.732      36.068\n",
            "name[T.saab 99e]                                12.0000      4.113      2.917      0.004       3.832      20.168\n",
            "name[T.saab 99gle]                               8.6000      4.113      2.091      0.039       0.432      16.768\n",
            "name[T.saab 99le]                               11.5000      3.562      3.228      0.002       4.426      18.574\n",
            "name[T.subaru]                                  16.1500      3.562      4.534      0.000       9.076      23.224\n",
            "name[T.subaru dl]                               18.9000      3.562      5.306      0.000      11.826      25.974\n",
            "name[T.toyota carina]                            7.0000      4.113      1.702      0.092      -1.168      15.168\n",
            "name[T.toyota celica gt]                        19.0000      4.113      4.619      0.000      10.832      27.168\n",
            "name[T.toyota celica gt liftback]                8.1000      4.113      1.969      0.052      -0.068      16.268\n",
            "name[T.toyota corolla]                          18.1200      3.186      5.687      0.000      11.793      24.447\n",
            "name[T.toyota corolla 1200]                     18.5000      3.562      5.193      0.000      11.426      25.574\n",
            "name[T.toyota corolla 1600 (sw)]                14.0000      4.113      3.404      0.001       5.832      22.168\n",
            "name[T.toyota corolla liftback]                 13.0000      4.113      3.160      0.002       4.832      21.168\n",
            "name[T.toyota corolla tercel]                   25.1000      4.113      6.102      0.000      16.932      33.268\n",
            "name[T.toyota corona]                           13.8750      3.252      4.267      0.000       7.417      20.333\n",
            "name[T.toyota corona hardtop]                   11.0000      4.113      2.674      0.009       2.832      19.168\n",
            "name[T.toyota corona liftback]                  16.8000      4.113      4.084      0.000       8.632      24.968\n",
            "name[T.toyota corona mark ii]                   11.0000      4.113      2.674      0.009       2.832      19.168\n",
            "name[T.toyota cressida]                         12.4000      4.113      3.015      0.003       4.232      20.568\n",
            "name[T.toyota mark ii]                           6.5000      3.562      1.825      0.071      -0.574      13.574\n",
            "name[T.toyota starlet]                          26.1000      4.113      6.345      0.000      17.932      34.268\n",
            "name[T.toyota tercel]                           24.7000      4.113      6.005      0.000      16.532      32.868\n",
            "name[T.toyouta corona mark ii (sw)]             10.0000      4.113      2.431      0.017       1.832      18.168\n",
            "name[T.triumph tr7 coupe]                       22.0000      4.113      5.348      0.000      13.832      30.168\n",
            "name[T.vokswagen rabbit]                        16.8000      4.113      4.084      0.000       8.632      24.968\n",
            "name[T.volkswagen 1131 deluxe sedan]            13.0000      4.113      3.160      0.002       4.832      21.168\n",
            "name[T.volkswagen 411 (sw)]                      9.0000      4.113      2.188      0.031       0.832      17.168\n",
            "name[T.volkswagen dasher]                       14.1667      3.359      4.218      0.000       7.497      20.836\n",
            "name[T.volkswagen jetta]                        20.0000      4.113      4.862      0.000      11.832      28.168\n",
            "name[T.volkswagen model 111]                    14.0000      4.113      3.404      0.001       5.832      22.168\n",
            "name[T.volkswagen rabbit]                       16.2500      3.562      4.562      0.000       9.176      23.324\n",
            "name[T.volkswagen rabbit custom]                16.0000      4.113      3.890      0.000       7.832      24.168\n",
            "name[T.volkswagen rabbit custom diesel]         30.1000      4.113      7.318      0.000      21.932      38.268\n",
            "name[T.volkswagen rabbit l]                     23.0000      4.113      5.592      0.000      14.832      31.168\n",
            "name[T.volkswagen scirocco]                     18.5000      4.113      4.498      0.000      10.332      26.668\n",
            "name[T.volkswagen super beetle]                 13.0000      4.113      3.160      0.002       4.832      21.168\n",
            "name[T.volkswagen type 3]                       10.0000      4.113      2.431      0.017       1.832      18.168\n",
            "name[T.volvo 144ea]                              6.0000      4.113      1.459      0.148      -2.168      14.168\n",
            "name[T.volvo 145e (sw)]                          5.0000      4.113      1.216      0.227      -3.168      13.168\n",
            "name[T.volvo 244dl]                              9.0000      4.113      2.188      0.031       0.832      17.168\n",
            "name[T.volvo 245]                                7.0000      4.113      1.702      0.092      -1.168      15.168\n",
            "name[T.volvo 264gl]                              4.0000      4.113      0.972      0.333      -4.168      12.168\n",
            "name[T.volvo diesel]                            17.7000      4.113      4.303      0.000       9.532      25.868\n",
            "name[T.vw dasher (diesel)]                      30.4000      4.113      7.391      0.000      22.232      38.568\n",
            "name[T.vw pickup]                               31.0000      4.113      7.536      0.000      22.832      39.168\n",
            "name[T.vw rabbit]                               22.2500      3.562      6.246      0.000      15.176      29.324\n",
            "name[T.vw rabbit c (diesel)]                    31.3000      4.113      7.609      0.000      23.132      39.468\n",
            "name[T.vw rabbit custom]                        18.9000      4.113      4.595      0.000      10.732      27.068\n",
            "==============================================================================\n",
            "Omnibus:                       67.830   Durbin-Watson:                   1.672\n",
            "Prob(Omnibus):                  0.000   Jarque-Bera (JB):              724.769\n",
            "Skew:                          -0.272   Prob(JB):                    4.15e-158\n",
            "Kurtosis:                       9.597   Cond. No.                         349.\n",
            "==============================================================================\n",
            "\n",
            "Notes:\n",
            "[1] Standard Errors assume that the covariance matrix of the errors is correctly specified.\n",
            "\n",
            "\n"
          ]
        }
      ]
    },
    {
      "cell_type": "markdown",
      "source": [
        "R-squared = 0.968\n",
        "\n",
        "P > |t| = 0.000"
      ],
      "metadata": {
        "id": "h4rfdlSwWiHN"
      }
    },
    {
      "cell_type": "markdown",
      "source": [
        "Based on the tests above I would choose **weight, acceleration, displacement, cylinders, and origin** as my predictors for this model. This is because the r-squared value for these tests indicates an *ok* fit to our expected values. Additionally, the p-values (P > |t|) for the intercepts and variables show that our coefficients are statistically significant. While other predictors had better r^2 values, their coefficients were not statistically significant."
      ],
      "metadata": {
        "id": "bTK_vg-hX7in"
      }
    },
    {
      "cell_type": "markdown",
      "metadata": {
        "id": "OcRHEEDU_Ycr"
      },
      "source": [
        "## 2. Use all predictors for multiple linear regression. \n",
        "\n",
        "Do you think it is necessary to select a subset of the predictors? "
      ]
    },
    {
      "cell_type": "code",
      "metadata": {
        "id": "7-kWYSqHOoMa",
        "outputId": "0f775bc8-9325-40bd-f3b8-9679621a756f",
        "colab": {
          "base_uri": "https://localhost:8080/"
        }
      },
      "source": [
        "# show your code that involves all predictors for regression\n",
        "model = smf.ols(\"mpg ~ cylinders + displacement + horsepower + weight + acceleration + year + origin + name\", data=auto_dataset).fit()\n",
        "\n",
        "print(model.summary())"
      ],
      "execution_count": 19,
      "outputs": [
        {
          "output_type": "stream",
          "name": "stdout",
          "text": [
            "                            OLS Regression Results                            \n",
            "==============================================================================\n",
            "Dep. Variable:                    mpg   R-squared:                       0.993\n",
            "Model:                            OLS   Adj. R-squared:                  0.930\n",
            "Method:                 Least Squares   F-statistic:                     15.61\n",
            "Date:                Fri, 17 Feb 2023   Prob (F-statistic):           5.81e-16\n",
            "Time:                        17:25:56   Log-Likelihood:                -381.76\n",
            "No. Observations:                 397   AIC:                             1484.\n",
            "Df Residuals:                      37   BIC:                             2918.\n",
            "Df Model:                         359                                         \n",
            "Covariance Type:            nonrobust                                         \n",
            "================================================================================================================\n",
            "                                                   coef    std err          t      P>|t|      [0.025      0.975]\n",
            "----------------------------------------------------------------------------------------------------------------\n",
            "Intercept                                       16.8667     16.034      1.052      0.300     -15.620      49.354\n",
            "horsepower[T.102]                               -2.8126      2.147     -1.310      0.198      -7.163       1.538\n",
            "horsepower[T.103]                               -1.9842      1.958     -1.013      0.317      -5.951       1.983\n",
            "horsepower[T.105]                                1.4407      1.746      0.825      0.415      -2.096       4.978\n",
            "horsepower[T.107]                               -0.2337      3.175     -0.074      0.942      -6.668       6.200\n",
            "horsepower[T.108]                               -0.9946      1.809     -0.550      0.586      -4.660       2.670\n",
            "horsepower[T.110]                               -0.4001      1.757     -0.228      0.821      -3.960       3.160\n",
            "horsepower[T.112]                               -3.4666      3.109     -1.115      0.272      -9.766       2.833\n",
            "horsepower[T.113]                                0.1932      1.938      0.100      0.921      -3.733       4.120\n",
            "horsepower[T.115]                                2.3918      2.531      0.945      0.351      -2.737       7.521\n",
            "horsepower[T.116]                                0.0006      1.674      0.000      1.000      -3.392       3.393\n",
            "horsepower[T.120]                               -0.1841      3.566     -0.052      0.959      -7.410       7.041\n",
            "horsepower[T.122]                               -0.3452      1.822     -0.189      0.851      -4.036       3.346\n",
            "horsepower[T.125]                                0.9348      3.888      0.240      0.811      -6.943       8.813\n",
            "horsepower[T.129]                               -1.7127      4.029     -0.425      0.673      -9.877       6.451\n",
            "horsepower[T.130]                                2.2699      2.977      0.762      0.451      -3.762       8.302\n",
            "horsepower[T.132]                                3.3699      1.700      1.982      0.055      -0.075       6.814\n",
            "horsepower[T.133]                               -2.9403      2.263     -1.299      0.202      -7.526       1.645\n",
            "horsepower[T.135]                                0.8483      3.160      0.268      0.790      -5.555       7.252\n",
            "horsepower[T.137]                                0.9763      4.619      0.211      0.834      -8.383      10.335\n",
            "horsepower[T.138]                               -0.4990      3.200     -0.156      0.877      -6.982       5.984\n",
            "horsepower[T.139]                                0.2302      4.013      0.057      0.955      -7.901       8.362\n",
            "horsepower[T.140]                                2.1407      3.649      0.587      0.561      -5.253       9.534\n",
            "horsepower[T.142]                               -2.8965      5.440     -0.532      0.598     -13.918       8.125\n",
            "horsepower[T.145]                                0.7982      3.486      0.229      0.820      -6.264       7.861\n",
            "horsepower[T.148]                               -0.4780      2.941     -0.163      0.872      -6.437       5.481\n",
            "horsepower[T.149]                                0.0979      3.389      0.029      0.977      -6.769       6.964\n",
            "horsepower[T.150]                               -1.6287      3.481     -0.468      0.643      -8.682       5.425\n",
            "horsepower[T.152]                               -0.1815      4.883     -0.037      0.971     -10.075       9.712\n",
            "horsepower[T.153]                               -1.1892      3.760     -0.316      0.754      -8.807       6.428\n",
            "horsepower[T.155]                               -2.6864      8.467     -0.317      0.753     -19.842      14.469\n",
            "horsepower[T.158]                               -0.9675      2.657     -0.364      0.718      -6.351       4.416\n",
            "horsepower[T.160]                               -2.2683      4.494     -0.505      0.617     -11.374       6.837\n",
            "horsepower[T.165]                               -0.8230      4.097     -0.201      0.842      -9.125       7.479\n",
            "horsepower[T.167]                               -1.5268      3.870     -0.394      0.695      -9.369       6.315\n",
            "horsepower[T.170]                               -3.3322      5.338     -0.624      0.536     -14.147       7.483\n",
            "horsepower[T.175]                               -3.6285      5.862     -0.619      0.540     -15.506       8.249\n",
            "horsepower[T.180]                               -2.5699      5.648     -0.455      0.652     -14.013       8.873\n",
            "horsepower[T.190]                               -1.1229      5.028     -0.223      0.825     -11.311       9.065\n",
            "horsepower[T.193]                               -0.9440      3.951     -0.239      0.813      -8.950       7.062\n",
            "horsepower[T.198]                               -0.7260      4.036     -0.180      0.858      -8.904       7.452\n",
            "horsepower[T.200]                               -1.7437      3.715     -0.469      0.642      -9.270       5.783\n",
            "horsepower[T.208]                               -2.0894      3.748     -0.558      0.581      -9.683       5.504\n",
            "horsepower[T.210]                               -1.7352      3.717     -0.467      0.643      -9.266       5.796\n",
            "horsepower[T.215]                               -2.9972      6.128     -0.489      0.628     -15.414       9.419\n",
            "horsepower[T.220]                               -0.1173      5.555     -0.021      0.983     -11.372      11.137\n",
            "horsepower[T.225]                               -3.3600      6.291     -0.534      0.596     -16.108       9.388\n",
            "horsepower[T.230]                               -0.6056      3.561     -0.170      0.866      -7.820       6.609\n",
            "horsepower[T.46]                                 4.0167      2.778      1.446      0.157      -1.612       9.645\n",
            "horsepower[T.48]                                16.1273      3.132      5.150      0.000       9.782      22.472\n",
            "horsepower[T.49]                                12.4965      4.047      3.088      0.004       4.297      20.696\n",
            "horsepower[T.52]                                10.6984      4.456      2.401      0.021       1.671      19.726\n",
            "horsepower[T.53]                                 7.5264      3.920      1.920      0.063      -0.416      15.469\n",
            "horsepower[T.54]                                 2.4417      2.214      1.103      0.277      -2.044       6.928\n",
            "horsepower[T.58]                                 7.9613      2.229      3.571      0.001       3.444      12.479\n",
            "horsepower[T.60]                                 8.5483      4.864      1.758      0.087      -1.306      18.403\n",
            "horsepower[T.61]                                 7.9770      4.052      1.969      0.057      -0.234      16.188\n",
            "horsepower[T.62]                                 4.3488      2.024      2.148      0.038       0.247       8.451\n",
            "horsepower[T.63]                                 8.0100      4.067      1.970      0.056      -0.230      16.250\n",
            "horsepower[T.64]                                 5.7030      3.486      1.636      0.110      -1.361      12.767\n",
            "horsepower[T.65]                                 9.3552      2.431      3.849      0.000       4.430      14.280\n",
            "horsepower[T.66]                                 4.1865      3.401      1.231      0.226      -2.704      11.077\n",
            "horsepower[T.67]                                 7.3853      3.177      2.325      0.026       0.948      13.823\n",
            "horsepower[T.68]                                 6.6726      3.990      1.672      0.103      -1.413      14.758\n",
            "horsepower[T.69]                                 6.3962      2.269      2.818      0.008       1.798      10.995\n",
            "horsepower[T.70]                                 7.2988      2.903      2.515      0.016       1.418      13.180\n",
            "horsepower[T.71]                                 6.8538      2.883      2.378      0.023       1.013      12.695\n",
            "horsepower[T.72]                                 1.3148      2.245      0.586      0.562      -3.234       5.864\n",
            "horsepower[T.74]                                 4.7514      3.641      1.305      0.200      -2.626      12.129\n",
            "horsepower[T.75]                                 4.2477      2.152      1.974      0.056      -0.113       8.609\n",
            "horsepower[T.76]                                18.6787      4.189      4.459      0.000      10.190      27.167\n",
            "horsepower[T.77]                                 2.4204      2.001      1.209      0.234      -1.635       6.476\n",
            "horsepower[T.78]                                 7.5898      2.935      2.586      0.014       1.643      13.537\n",
            "horsepower[T.79]                                 3.4733      3.229      1.076      0.289      -3.069      10.016\n",
            "horsepower[T.80]                                 3.9236      3.303      1.188      0.243      -2.770      10.617\n",
            "horsepower[T.81]                                 3.3943      2.782      1.220      0.230      -2.243       9.032\n",
            "horsepower[T.82]                                 2.8652      3.357      0.853      0.399      -3.937       9.668\n",
            "horsepower[T.83]                                 1.2057      3.186      0.378      0.707      -5.250       7.661\n",
            "horsepower[T.84]                                 0.5556      4.319      0.129      0.898      -8.196       9.308\n",
            "horsepower[T.85]                                 1.0181      3.086      0.330      0.743      -5.236       7.272\n",
            "horsepower[T.86]                                -0.8296      4.708     -0.176      0.861     -10.368       8.709\n",
            "horsepower[T.87]                                 3.0855      3.769      0.819      0.418      -4.552      10.723\n",
            "horsepower[T.88]                                -0.9894      2.729     -0.363      0.719      -6.520       4.541\n",
            "horsepower[T.89]                                -0.1221      3.252     -0.038      0.970      -6.712       6.467\n",
            "horsepower[T.90]                                 3.3356      1.495      2.232      0.032       0.307       6.364\n",
            "horsepower[T.91]                                 1.3462      4.703      0.286      0.776      -8.183      10.875\n",
            "horsepower[T.92]                                 0.7498      3.533      0.212      0.833      -6.410       7.909\n",
            "horsepower[T.93]                                 2.1413      4.154      0.516      0.609      -6.275      10.558\n",
            "horsepower[T.94]                                -0.8937      1.358     -0.658      0.515      -3.645       1.858\n",
            "horsepower[T.95]                                 4.3223      3.742      1.155      0.255      -3.260      11.904\n",
            "horsepower[T.96]                                 1.5395      4.195      0.367      0.716      -6.960      10.039\n",
            "horsepower[T.97]                                -1.5145      2.281     -0.664      0.511      -6.136       3.107\n",
            "horsepower[T.98]                                -1.1300      3.133     -0.361      0.720      -7.477       5.217\n",
            "horsepower[T.?]                                  3.9767      3.190      1.247      0.220      -2.487      10.440\n",
            "name[T.amc ambassador dpl]                      -0.7230      2.472     -0.292      0.772      -5.731       4.285\n",
            "name[T.amc ambassador sst]                       1.7553      6.037      0.291      0.773     -10.476      13.987\n",
            "name[T.amc concord]                             -3.0196      5.896     -0.512      0.612     -14.966       8.927\n",
            "name[T.amc concord d/l]                         -2.6336      6.551     -0.402      0.690     -15.907      10.640\n",
            "name[T.amc concord dl 6]                        -2.4361      5.966     -0.408      0.685     -14.524       9.652\n",
            "name[T.amc gremlin]                             -0.6567      5.627     -0.117      0.908     -12.058      10.745\n",
            "name[T.amc hornet]                               0.3463      5.586      0.062      0.951     -10.972      11.665\n",
            "name[T.amc hornet sportabout (sw)]              -0.8289      5.972     -0.139      0.890     -12.929      11.271\n",
            "name[T.amc matador]                             -0.9819      5.690     -0.173      0.864     -12.512      10.548\n",
            "name[T.amc matador (sw)]                         0.6990      6.178      0.113      0.911     -11.819      13.217\n",
            "name[T.amc pacer]                               -2.9748      5.997     -0.496      0.623     -15.126       9.176\n",
            "name[T.amc pacer d/l]                           -4.7057      5.951     -0.791      0.434     -16.763       7.351\n",
            "name[T.amc rebel sst]                            2.0429      5.954      0.343      0.733     -10.022      14.108\n",
            "name[T.amc spirit dl]                           -4.0463      6.850     -0.591      0.558     -17.926       9.834\n",
            "name[T.audi 100 ls]                             -3.7021      3.938     -0.940      0.353     -11.682       4.278\n",
            "name[T.audi 100ls]                              -7.2298      4.201     -1.721      0.094     -15.741       1.282\n",
            "name[T.audi 4000]                               -0.7206      4.065     -0.177      0.860      -8.957       7.516\n",
            "name[T.audi 5000]                               -1.9842      1.958     -1.013      0.317      -5.951       1.983\n",
            "name[T.audi 5000s (diesel)]                      6.8967      4.506      1.531      0.134      -2.233      16.026\n",
            "name[T.audi fox]                                 3.3273      4.317      0.771      0.446      -5.420      12.074\n",
            "name[T.bmw 2002]                                 0.1932      1.938      0.100      0.921      -3.733       4.120\n",
            "name[T.bmw 320i]                                -6.4085      4.017     -1.595      0.119     -14.548       1.731\n",
            "name[T.buick century]                            1.1906      6.028      0.198      0.845     -11.024      13.405\n",
            "name[T.buick century 350]                        1.2945      3.079      0.420      0.677      -4.943       7.532\n",
            "name[T.buick century limited]                    2.5839      6.299      0.410      0.684     -10.178      15.346\n",
            "name[T.buick century luxus (sw)]                -0.1329      6.618     -0.020      0.984     -13.542      13.276\n",
            "name[T.buick century special]                   -1.7188      6.271     -0.274      0.786     -14.424      10.987\n",
            "name[T.buick electra 225 custom]                 0.1727      4.811      0.036      0.972      -9.575       9.920\n",
            "name[T.buick estate wagon (sw)]                  3.2731      5.268      0.621      0.538      -7.401      13.947\n",
            "name[T.buick lesabre custom]                     1.0001      5.728      0.175      0.862     -10.607      12.607\n",
            "name[T.buick opel isuzu deluxe]                 -0.8099      6.690     -0.121      0.904     -14.365      12.745\n",
            "name[T.buick regal sport coupe (turbo)]         -4.2940      7.097     -0.605      0.549     -18.673      10.085\n",
            "name[T.buick skyhawk]                            1.2104      5.958      0.203      0.840     -10.862      13.283\n",
            "name[T.buick skylark]                           -0.5586      6.306     -0.089      0.930     -13.335      12.218\n",
            "name[T.buick skylark 320]                        0.6438      6.596      0.098      0.923     -12.720      14.008\n",
            "name[T.buick skylark limited]                   -1.0717      6.304     -0.170      0.866     -13.846      11.702\n",
            "name[T.cadillac eldorado]                        7.9186      3.020      2.622      0.013       1.799      14.038\n",
            "name[T.cadillac seville]                         1.7143      2.236      0.767      0.448      -2.816       6.245\n",
            "name[T.capri ii]                                -1.7438      3.340     -0.522      0.605      -8.511       5.023\n",
            "name[T.chevroelt chevelle malibu]               -2.7872      6.627     -0.421      0.677     -16.216      10.641\n",
            "name[T.chevrolet bel air]                       -1.2612      5.763     -0.219      0.828     -12.938      10.416\n",
            "name[T.chevrolet camaro]                        -2.7384      6.416     -0.427      0.672     -15.738      10.261\n",
            "name[T.chevrolet caprice classic]               -1.3203      5.363     -0.246      0.807     -12.188       9.547\n",
            "name[T.chevrolet cavalier]                       3.7851      6.841      0.553      0.583     -10.077      17.647\n",
            "name[T.chevrolet cavalier 2-door]                8.5875      6.762      1.270      0.212      -5.113      22.288\n",
            "name[T.chevrolet cavalier wagon]                 1.9743      6.847      0.288      0.775     -11.899      15.848\n",
            "name[T.chevrolet chevelle concours (sw)]        -4.2499      6.582     -0.646      0.522     -17.587       9.087\n",
            "name[T.chevrolet chevelle malibu]               -0.3758      5.798     -0.065      0.949     -12.124      11.373\n",
            "name[T.chevrolet chevelle malibu classic]       -2.0999      6.391     -0.329      0.744     -15.049      10.849\n",
            "name[T.chevrolet chevette]                      -2.8575      6.096     -0.469      0.642     -15.210       9.495\n",
            "name[T.chevrolet citation]                      -0.8004      6.012     -0.133      0.895     -12.981      11.381\n",
            "name[T.chevrolet concours]                      -1.7794      6.014     -0.296      0.769     -13.965      10.407\n",
            "name[T.chevrolet impala]                        -1.2624      6.700     -0.188      0.852     -14.839      12.314\n",
            "name[T.chevrolet malibu]                        -3.2002      5.250     -0.610      0.546     -13.838       7.438\n",
            "name[T.chevrolet malibu classic (sw)]            0.6854      2.932      0.234      0.816      -5.256       6.627\n",
            "name[T.chevrolet monte carlo]                    0.8102      5.844      0.139      0.890     -11.031      12.651\n",
            "name[T.chevrolet monte carlo landau]             0.5992      4.167      0.144      0.886      -7.844       9.043\n",
            "name[T.chevrolet monte carlo s]                 -1.1255      5.460     -0.206      0.838     -12.188       9.937\n",
            "name[T.chevrolet monza 2+2]                      3.2679      6.224      0.525      0.603      -9.342      15.878\n",
            "name[T.chevrolet nova]                          -1.9079      5.842     -0.327      0.746     -13.746       9.930\n",
            "name[T.chevrolet nova custom]                   -0.7141      5.960     -0.120      0.905     -12.790      11.362\n",
            "name[T.chevrolet vega]                          -2.7110      5.990     -0.453      0.653     -14.847       9.425\n",
            "name[T.chevrolet vega (sw)]                      0.0212      6.362      0.003      0.997     -12.869      12.911\n",
            "name[T.chevrolet vega 2300]                      1.2624      6.344      0.199      0.843     -11.592      14.117\n",
            "name[T.chevrolet woody]                         -4.9703      7.723     -0.644      0.524     -20.619      10.678\n",
            "name[T.chevy c10]                               -5.1118      5.386     -0.949      0.349     -16.025       5.801\n",
            "name[T.chevy c20]                               -1.7437      3.715     -0.469      0.642      -9.270       5.783\n",
            "name[T.chevy s-10]                               2.8652      3.357      0.853      0.399      -3.937       9.668\n",
            "name[T.chrysler cordoba]                        -0.0504      2.379     -0.021      0.983      -4.871       4.770\n",
            "name[T.chrysler lebaron medallion]              -3.1512      3.290     -0.958      0.344      -9.817       3.514\n",
            "name[T.chrysler lebaron salon]                  -5.0064      6.836     -0.732      0.469     -18.857       8.845\n",
            "name[T.chrysler lebaron town @ country (sw)]     2.6536      5.784      0.459      0.649      -9.067      14.374\n",
            "name[T.chrysler new yorker brougham]             0.5964      7.167      0.083      0.934     -13.925      15.118\n",
            "name[T.chrysler newport royal]                  -0.3496      2.570     -0.136      0.893      -5.557       4.858\n",
            "name[T.datsun 1200]                              6.3926      2.844      2.247      0.031       0.629      12.156\n",
            "name[T.datsun 200-sx]                           -1.4409      2.890     -0.499      0.621      -7.296       4.415\n",
            "name[T.datsun 200sx]                             4.6873      2.684      1.746      0.089      -0.751      10.125\n",
            "name[T.datsun 210]                               2.3802      2.122      1.121      0.269      -1.920       6.681\n",
            "name[T.datsun 210 mpg]                           2.6741      2.584      1.035      0.307      -2.562       7.910\n",
            "name[T.datsun 280-zx]                            3.3699      1.700      1.982      0.055      -0.075       6.814\n",
            "name[T.datsun 310]                               0.8837      2.469      0.358      0.722      -4.118       5.886\n",
            "name[T.datsun 310 gx]                            2.8021      2.913      0.962      0.342      -3.099       8.703\n",
            "name[T.datsun 510]                               1.7389      2.993      0.581      0.565      -4.326       7.804\n",
            "name[T.datsun 510 (sw)]                          4.0794      4.304      0.948      0.349      -4.642      12.800\n",
            "name[T.datsun 510 hatchback]                     8.6645      4.246      2.041      0.048       0.061      17.268\n",
            "name[T.datsun 610]                              -0.8937      1.358     -0.658      0.515      -3.645       1.858\n",
            "name[T.datsun 710]                               1.4805      2.720      0.544      0.589      -4.031       6.992\n",
            "name[T.datsun 810]                               0.8296      3.042      0.273      0.787      -5.334       6.993\n",
            "name[T.datsun 810 maxima]                       -0.5006      3.716     -0.135      0.894      -8.030       7.029\n",
            "name[T.datsun b-210]                            -0.1917      2.808     -0.068      0.946      -5.880       5.497\n",
            "name[T.datsun b210]                              1.0136      3.029      0.335      0.740      -5.123       7.150\n",
            "name[T.datsun b210 gx]                           7.6554      2.790      2.744      0.009       2.002      13.309\n",
            "name[T.datsun f-10 hatchback]                    0.7660      2.795      0.274      0.786      -4.897       6.429\n",
            "name[T.datsun pl510]                             3.4830      2.629      1.325      0.193      -1.845       8.811\n",
            "name[T.dodge aries se]                           0.8499      6.996      0.121      0.904     -13.325      15.025\n",
            "name[T.dodge aries wagon (sw)]                  -3.0445      3.270     -0.931      0.358      -9.671       3.582\n",
            "name[T.dodge aspen]                             -1.7451      5.907     -0.295      0.769     -13.714      10.224\n",
            "name[T.dodge aspen 6]                            0.2502      6.066      0.041      0.967     -12.041      12.541\n",
            "name[T.dodge aspen se]                           1.2173      6.388      0.191      0.850     -11.725      14.160\n",
            "name[T.dodge challenger se]                      2.6530      4.596      0.577      0.567      -6.659      11.965\n",
            "name[T.dodge charger 2.2]                        5.5149      6.948      0.794      0.432      -8.562      19.592\n",
            "name[T.dodge colt]                              -1.9394      6.316     -0.307      0.761     -14.738      10.859\n",
            "name[T.dodge colt (sw)]                         -0.9110      6.773     -0.135      0.894     -14.635      12.813\n",
            "name[T.dodge colt hardtop]                      -2.3112      6.740     -0.343      0.734     -15.968      11.345\n",
            "name[T.dodge colt hatchback custom]              3.6067      6.793      0.531      0.599     -10.156      17.370\n",
            "name[T.dodge colt m/m]                           6.0603      6.847      0.885      0.382      -7.814      19.934\n",
            "name[T.dodge coronet brougham]                   0.4341      6.277      0.069      0.945     -12.283      13.152\n",
            "name[T.dodge coronet custom]                     0.3888      5.965      0.065      0.948     -11.698      12.475\n",
            "name[T.dodge coronet custom (sw)]               -0.4680      6.654     -0.070      0.944     -13.950      13.014\n",
            "name[T.dodge d100]                              -1.6051      5.930     -0.271      0.788     -13.620      10.409\n",
            "name[T.dodge d200]                              -1.7352      3.717     -0.467      0.643      -9.266       5.796\n",
            "name[T.dodge dart custom]                       -0.6660      5.811     -0.115      0.909     -12.439      11.107\n",
            "name[T.dodge diplomat]                          -0.4044      6.554     -0.062      0.951     -13.684      12.876\n",
            "name[T.dodge magnum xe]                         -2.0349      6.743     -0.302      0.765     -15.698      11.629\n",
            "name[T.dodge monaco (sw)]                       -0.8343      3.215     -0.260      0.797      -7.347       5.679\n",
            "name[T.dodge monaco brougham]                   -2.3153      5.523     -0.419      0.677     -13.505       8.874\n",
            "name[T.dodge omni]                              -1.0187      6.472     -0.157      0.876     -14.133      12.095\n",
            "name[T.dodge rampage]                            0.4262      6.941      0.061      0.951     -13.638      14.491\n",
            "name[T.dodge st. regis]                          0.8483      3.160      0.268      0.790      -5.555       7.252\n",
            "name[T.fiat 124 sport coupe]                    -2.2180      3.820     -0.581      0.565      -9.958       5.522\n",
            "name[T.fiat 124 tc]                             -4.3656      3.631     -1.202      0.237     -11.723       2.991\n",
            "name[T.fiat 124b]                              -13.6809      5.195     -2.633      0.012     -24.207      -3.154\n",
            "name[T.fiat 128]                                -5.6277      3.739     -1.505      0.141     -13.204       1.948\n",
            "name[T.fiat 131]                                 2.8505      2.517      1.132      0.265      -2.250       7.951\n",
            "name[T.fiat strada custom]                       2.8990      2.482      1.168      0.250      -2.131       7.929\n",
            "name[T.fiat x1.9]                               -1.5419      4.196     -0.367      0.715     -10.044       6.960\n",
            "name[T.ford country]                            -1.5268      3.870     -0.394      0.695      -9.369       6.315\n",
            "name[T.ford country squire (sw)]                 1.7389      4.531      0.384      0.703      -7.441      10.919\n",
            "name[T.ford escort 2h]                          -3.5729      5.468     -0.653      0.518     -14.652       7.507\n",
            "name[T.ford escort 4w]                          -2.5369      5.395     -0.470      0.641     -13.469       8.395\n",
            "name[T.ford f108]                               -5.0632      6.127     -0.826      0.414     -17.478       7.351\n",
            "name[T.ford f250]                               -0.3372      8.229     -0.041      0.968     -17.010      16.336\n",
            "name[T.ford fairmont]                            2.2380      6.699      0.334      0.740     -11.335      15.811\n",
            "name[T.ford fairmont (auto)]                    -2.1491      6.515     -0.330      0.743     -15.350      11.051\n",
            "name[T.ford fairmont (man)]                     -0.3604      6.643     -0.054      0.957     -13.820      13.100\n",
            "name[T.ford fairmont 4]                         -2.1081      6.722     -0.314      0.756     -15.728      11.512\n",
            "name[T.ford fairmont futura]                    -4.0546      3.450     -1.175      0.247     -11.046       2.936\n",
            "name[T.ford fiesta]                              4.1865      3.401      1.231      0.226      -2.704      11.077\n",
            "name[T.ford futura]                             -1.5046      2.478     -0.607      0.547      -6.526       3.517\n",
            "name[T.ford galaxie 500]                         0.6581      3.482      0.189      0.851      -6.398       7.714\n",
            "name[T.ford gran torino]                        -2.0342      7.014     -0.290      0.773     -16.246      12.178\n",
            "name[T.ford gran torino (sw)]                   -2.6611      7.242     -0.367      0.715     -17.335      12.013\n",
            "name[T.ford granada]                             2.0227      3.231      0.626      0.535      -4.524       8.569\n",
            "name[T.ford granada ghia]                       -5.2205      6.586     -0.793      0.433     -18.565       8.124\n",
            "name[T.ford granada gl]                         -0.3390      6.455     -0.053      0.958     -13.417      12.739\n",
            "name[T.ford granada l]                           2.3367      3.584      0.652      0.518      -4.925       9.598\n",
            "name[T.ford ltd]                                -1.4455      4.712     -0.307      0.761     -10.993       8.102\n",
            "name[T.ford ltd landau]                          1.0986      2.681      0.410      0.684      -4.333       6.530\n",
            "name[T.ford maverick]                            0.1022      5.803      0.018      0.986     -11.655      11.859\n",
            "name[T.ford mustang]                             0.3347      6.422      0.052      0.959     -12.678      13.348\n",
            "name[T.ford mustang cobra]                      -8.5725      6.906     -1.241      0.222     -22.565       5.420\n",
            "name[T.ford mustang gl]                         -0.0853      2.657     -0.032      0.975      -5.468       5.298\n",
            "name[T.ford mustang ii]                         -2.8113      2.508     -1.121      0.269      -7.892       2.269\n",
            "name[T.ford mustang ii 2+2]                     -0.1221      3.252     -0.038      0.970      -6.712       6.467\n",
            "name[T.ford pinto]                              -2.1501      5.995     -0.359      0.722     -14.296       9.996\n",
            "name[T.ford pinto (sw)]                         -0.9756      2.477     -0.394      0.696      -5.994       4.043\n",
            "name[T.ford pinto runabout]                     -1.5134      2.507     -0.604      0.550      -6.593       3.567\n",
            "name[T.ford ranger]                             -1.3258      6.949     -0.191      0.850     -15.405      12.754\n",
            "name[T.ford thunderbird]                         0.0979      3.389      0.029      0.977      -6.769       6.964\n",
            "name[T.ford torino]                             -1.9684      6.737     -0.292      0.772     -15.619      11.682\n",
            "name[T.ford torino 500]                          2.0713      6.520      0.318      0.753     -11.139      15.282\n",
            "name[T.hi 1200d]                                -0.9440      3.951     -0.239      0.813      -8.950       7.062\n",
            "name[T.honda accord]                             3.8662      2.136      1.810      0.078      -0.461       8.194\n",
            "name[T.honda accord cvcc]                        0.9660      3.739      0.258      0.798      -6.610       8.542\n",
            "name[T.honda accord lx]                         -2.9829      3.684     -0.810      0.423     -10.448       4.482\n",
            "name[T.honda civic]                              1.0907      2.059      0.530      0.600      -3.082       5.263\n",
            "name[T.honda civic (auto)]                      -3.5855      2.921     -1.227      0.227      -9.504       2.333\n",
            "name[T.honda civic 1300]                        -1.0493      4.487     -0.234      0.816     -10.141       8.043\n",
            "name[T.honda civic 1500 gl]                      8.3411      2.945      2.832      0.007       2.374      14.308\n",
            "name[T.honda civic cvcc]                         1.5700      3.438      0.457      0.651      -5.395       8.535\n",
            "name[T.honda prelude]                            0.8369      2.644      0.317      0.753      -4.520       6.193\n",
            "name[T.maxda glc deluxe]                        -2.7574      2.496     -1.105      0.276      -7.814       2.299\n",
            "name[T.maxda rx3]                              -14.0233      2.839     -4.939      0.000     -19.776      -8.271\n",
            "name[T.mazda 626]                                1.4400      2.613      0.551      0.585      -3.854       6.734\n",
            "name[T.mazda glc]                               11.4461      2.448      4.675      0.000       6.486      16.407\n",
            "name[T.mazda glc 4]                             -0.1414      3.700     -0.038      0.970      -7.639       7.356\n",
            "name[T.mazda glc custom]                        -2.3591      3.754     -0.628      0.534      -9.965       5.247\n",
            "name[T.mazda glc custom l]                       4.0989      3.736      1.097      0.280      -3.470      11.668\n",
            "name[T.mazda glc deluxe]                        -1.8116      3.538     -0.512      0.612      -8.980       5.357\n",
            "name[T.mazda rx-4]                              -8.4132      3.311     -2.541      0.015     -15.123      -1.704\n",
            "name[T.mazda rx-7 gs]                           -8.6935      3.070     -2.832      0.007     -14.913      -2.474\n",
            "name[T.mazda rx2 coupe]                         -7.8509      2.993     -2.623      0.013     -13.915      -1.786\n",
            "name[T.mercedes benz 300d]                       2.4204      2.001      1.209      0.234      -1.635       6.476\n",
            "name[T.mercedes-benz 240d]                       0.5337      4.660      0.115      0.909      -8.909       9.976\n",
            "name[T.mercedes-benz 280s]                      -3.9349      5.282     -0.745      0.461     -14.637       6.767\n",
            "name[T.mercury capri 2000]                      -1.1058      2.504     -0.442      0.661      -6.180       3.969\n",
            "name[T.mercury capri v6]                        -0.2337      3.175     -0.074      0.942      -6.668       6.200\n",
            "name[T.mercury cougar brougham]                 -3.7019      6.662     -0.556      0.582     -17.200       9.796\n",
            "name[T.mercury grand marquis]                   -0.4990      3.200     -0.156      0.877      -6.982       5.984\n",
            "name[T.mercury lynx l]                           1.5674      6.480      0.242      0.810     -11.562      14.697\n",
            "name[T.mercury marquis]                         -2.0894      3.748     -0.558      0.581      -9.683       5.504\n",
            "name[T.mercury marquis brougham]                -2.5732      4.305     -0.598      0.554     -11.297       6.150\n",
            "name[T.mercury monarch]                         -1.4926      6.236     -0.239      0.812     -14.128      11.143\n",
            "name[T.mercury monarch ghia]                     1.7348      2.586      0.671      0.506      -3.505       6.975\n",
            "name[T.mercury zephyr]                          -0.8705      6.573     -0.132      0.895     -14.188      12.447\n",
            "name[T.mercury zephyr 6]                        -1.0436      6.461     -0.162      0.873     -14.134      12.047\n",
            "name[T.nissan stanza xe]                         8.3281      3.190      2.611      0.013       1.865      14.791\n",
            "name[T.oldsmobile cutlass ciera (diesel)]       16.2082      6.415      2.527      0.016       3.210      29.206\n",
            "name[T.oldsmobile cutlass ls]                   11.5555      6.397      1.806      0.079      -1.406      24.516\n",
            "name[T.oldsmobile cutlass salon brougham]        6.0656      6.136      0.989      0.329      -6.367      18.498\n",
            "name[T.oldsmobile cutlass supreme]               3.5022      6.799      0.515      0.610     -10.273      17.278\n",
            "name[T.oldsmobile delta 88 royale]              -0.4007      3.057     -0.131      0.896      -6.595       5.793\n",
            "name[T.oldsmobile omega]                        -3.1960      2.405     -1.329      0.192      -8.068       1.676\n",
            "name[T.oldsmobile omega brougham]               -0.0664      6.504     -0.010      0.992     -13.245      13.112\n",
            "name[T.oldsmobile starfire sx]                  -1.7476      6.636     -0.263      0.794     -15.192      11.697\n",
            "name[T.oldsmobile vista cruiser]                -1.3125      2.449     -0.536      0.595      -6.275       3.650\n",
            "name[T.opel 1900]                               -1.5986      3.361     -0.476      0.637      -8.408       5.211\n",
            "name[T.opel manta]                              -6.2193      3.437     -1.809      0.079     -13.184       0.745\n",
            "name[T.peugeot 304]                              1.5075      4.128      0.365      0.717      -6.857       9.872\n",
            "name[T.peugeot 504]                             -0.0908      4.072     -0.022      0.982      -8.342       8.160\n",
            "name[T.peugeot 504 (sw)]                        -3.2133      5.264     -0.610      0.545     -13.878       7.452\n",
            "name[T.peugeot 505s turbo diesel]                0.4884      4.662      0.105      0.917      -8.958       9.935\n",
            "name[T.peugeot 604sl]                           -2.9403      2.263     -1.299      0.202      -7.526       1.645\n",
            "name[T.plymouth 'cuda 340]                      -1.8676      2.639     -0.708      0.484      -7.215       3.480\n",
            "name[T.plymouth arrow gs]                       -2.2058      6.602     -0.334      0.740     -15.583      11.171\n",
            "name[T.plymouth champ]                           5.7030      3.486      1.636      0.110      -1.361      12.767\n",
            "name[T.plymouth cricket]                        -1.5583      6.680     -0.233      0.817     -15.094      11.977\n",
            "name[T.plymouth custom suburb]                   0.9867      4.481      0.220      0.827      -8.093      10.066\n",
            "name[T.plymouth duster]                         -1.5951      5.738     -0.278      0.783     -13.222      10.032\n",
            "name[T.plymouth fury]                           -3.7187      6.442     -0.577      0.567     -16.772       9.334\n",
            "name[T.plymouth fury gran sedan]                 0.8117      6.370      0.127      0.899     -12.096      13.719\n",
            "name[T.plymouth fury iii]                        0.9596      6.122      0.157      0.876     -11.445      13.364\n",
            "name[T.plymouth grand fury]                      1.9147      6.657      0.288      0.775     -11.574      15.404\n",
            "name[T.plymouth horizon]                        -2.1952      6.542     -0.336      0.739     -15.450      11.060\n",
            "name[T.plymouth horizon 4]                      -1.8551      6.835     -0.271      0.788     -15.704      11.994\n",
            "name[T.plymouth horizon miser]                   0.9195      6.810      0.135      0.893     -12.878      14.717\n",
            "name[T.plymouth horizon tc3]                    -0.5203      6.468     -0.080      0.936     -13.626      12.585\n",
            "name[T.plymouth reliant]                        -0.4738      6.821     -0.069      0.945     -14.294      13.347\n",
            "name[T.plymouth sapporo]                        -3.3488      6.538     -0.512      0.612     -16.595       9.898\n",
            "name[T.plymouth satellite]                       3.5189      5.864      0.600      0.552      -8.363      15.401\n",
            "name[T.plymouth satellite custom]               -3.9010      6.593     -0.592      0.558     -17.260       9.459\n",
            "name[T.plymouth satellite custom (sw)]           0.8725      6.229      0.140      0.889     -11.749      13.494\n",
            "name[T.plymouth satellite sebring]              -2.3673      6.632     -0.357      0.723     -15.805      11.070\n",
            "name[T.plymouth valiant]                        -0.1219      5.904     -0.021      0.984     -12.084      11.840\n",
            "name[T.plymouth valiant custom]                 -4.9164      6.051     -0.813      0.422     -17.176       7.343\n",
            "name[T.plymouth volare]                          0.6021      6.139      0.098      0.922     -11.836      13.040\n",
            "name[T.plymouth volare custom]                  -0.1744      6.340     -0.028      0.978     -13.021      12.672\n",
            "name[T.plymouth volare premier v8]              -2.3126      6.038     -0.383      0.704     -14.546       9.921\n",
            "name[T.pontiac astro]                           -7.3200      6.639     -1.103      0.277     -20.773       6.133\n",
            "name[T.pontiac catalina]                         2.7710      3.210      0.863      0.394      -3.733       9.275\n",
            "name[T.pontiac catalina brougham]                2.7421      3.353      0.818      0.419      -4.051       9.535\n",
            "name[T.pontiac firebird]                         0.6905      6.078      0.114      0.910     -11.624      13.005\n",
            "name[T.pontiac grand prix]                      -0.6056      3.561     -0.170      0.866      -7.820       6.609\n",
            "name[T.pontiac grand prix lj]                    1.0585      2.400      0.441      0.662      -3.804       5.921\n",
            "name[T.pontiac j2000 se hatchback]               2.0767      6.811      0.305      0.762     -11.725      15.878\n",
            "name[T.pontiac lemans v6]                       -2.4380      6.278     -0.388      0.700     -15.159      10.283\n",
            "name[T.pontiac phoenix]                         -0.1310      6.151     -0.021      0.983     -12.594      12.332\n",
            "name[T.pontiac phoenix lj]                      -0.4648      6.358     -0.073      0.942     -13.348      12.419\n",
            "name[T.pontiac safari (sw)]                      1.8875      4.533      0.416      0.680      -7.297      11.072\n",
            "name[T.pontiac sunbird coupe]                    0.1263      6.561      0.019      0.985     -13.168      13.420\n",
            "name[T.pontiac ventura sj]                      -0.5862      6.122     -0.096      0.924     -12.990      11.818\n",
            "name[T.renault 12 (sw)]                         -2.8955      2.391     -1.211      0.234      -7.740       1.949\n",
            "name[T.renault 12tl]                            -0.3638      4.310     -0.084      0.933      -9.097       8.370\n",
            "name[T.renault 18i]                              2.7023      4.105      0.658      0.514      -5.615      11.019\n",
            "name[T.renault 5 gtl]                            3.8229      2.732      1.399      0.170      -1.713       9.359\n",
            "name[T.renault lecar deluxe]                    10.5858      4.043      2.618      0.013       2.394      18.778\n",
            "name[T.saab 99e]                                -1.3340      4.127     -0.323      0.748      -9.695       7.027\n",
            "name[T.saab 99gle]                              -7.2598      4.487     -1.618      0.114     -16.352       1.833\n",
            "name[T.saab 99le]                               -2.8725      3.877     -0.741      0.463     -10.729       4.984\n",
            "name[T.subaru]                                  -1.1305      2.928     -0.386      0.702      -7.062       4.801\n",
            "name[T.subaru dl]                               -1.0102      2.516     -0.402      0.690      -6.107       4.087\n",
            "name[T.toyota carina]                           -0.9822      3.094     -0.317      0.753      -7.251       5.287\n",
            "name[T.toyota celica gt]                         1.6023      4.539      0.353      0.726      -7.595      10.799\n",
            "name[T.toyota celica gt liftback]               -9.9043      4.084     -2.425      0.020     -18.179      -1.630\n",
            "name[T.toyota corolla]                          -0.0675      1.679     -0.040      0.968      -3.470       3.335\n",
            "name[T.toyota corolla 1200]                      0.8383      2.408      0.348      0.730      -4.040       5.717\n",
            "name[T.toyota corolla 1600 (sw)]                 4.4903      3.003      1.495      0.143      -1.595      10.575\n",
            "name[T.toyota corolla liftback]                 -2.4505      2.623     -0.934      0.356      -7.766       2.865\n",
            "name[T.toyota corolla tercel]                    4.5831      4.462      1.027      0.311      -4.458      13.624\n",
            "name[T.toyota corona]                           -4.1299      3.422     -1.207      0.235     -11.063       2.803\n",
            "name[T.toyota corona hardtop]                   -4.3718      4.038     -1.083      0.286     -12.553       3.809\n",
            "name[T.toyota corona liftback]                  -0.5319      2.712     -0.196      0.846      -6.028       4.964\n",
            "name[T.toyota corona mark ii]                   -4.0068      4.160     -0.963      0.342     -12.436       4.422\n",
            "name[T.toyota cressida]                          0.0006      1.674      0.000      1.000      -3.392       3.393\n",
            "name[T.toyota mark ii]                          -1.3398      2.061     -0.650      0.520      -5.517       2.837\n",
            "name[T.toyota starlet]                           4.1384      2.254      1.836      0.074      -0.428       8.705\n",
            "name[T.toyota tercel]                            6.7557      2.129      3.173      0.003       2.441      11.070\n",
            "name[T.toyouta corona mark ii (sw)]             -0.2808      2.720     -0.103      0.918      -5.792       5.230\n",
            "name[T.triumph tr7 coupe]                        8.3740      4.001      2.093      0.043       0.268      16.480\n",
            "name[T.vokswagen rabbit]                        -2.4069      2.694     -0.893      0.377      -7.865       3.052\n",
            "name[T.volkswagen 1131 deluxe sedan]             2.4298      2.060      1.180      0.246      -1.744       6.604\n",
            "name[T.volkswagen 411 (sw)]                    -18.8080      5.116     -3.676      0.001     -29.174      -8.442\n",
            "name[T.volkswagen dasher]                       -6.1615      3.486     -1.767      0.085     -13.225       0.902\n",
            "name[T.volkswagen jetta]                        -0.7018      4.689     -0.150      0.882     -10.203       8.800\n",
            "name[T.volkswagen model 111]                    -2.6975      5.405     -0.499      0.621     -13.650       8.255\n",
            "name[T.volkswagen rabbit]                       -5.5664      3.496     -1.592      0.120     -12.650       1.517\n",
            "name[T.volkswagen rabbit custom]                -5.7659      4.110     -1.403      0.169     -14.094       2.562\n",
            "name[T.volkswagen rabbit custom diesel]          4.8266      2.022      2.387      0.022       0.730       8.924\n",
            "name[T.volkswagen rabbit l]                      2.8548      4.796      0.595      0.555      -6.863      12.572\n",
            "name[T.volkswagen scirocco]                     -2.7862      4.010     -0.695      0.492     -10.912       5.340\n",
            "name[T.volkswagen super beetle]                  1.5868      2.005      0.791      0.434      -2.477       5.650\n",
            "name[T.volkswagen type 3]                        2.4417      2.214      1.103      0.277      -2.044       6.928\n",
            "name[T.volvo 144ea]                             -2.1904      2.074     -1.056      0.298      -6.392       2.011\n",
            "name[T.volvo 145e (sw)]                         -3.6129      2.271     -1.591      0.120      -8.214       0.988\n",
            "name[T.volvo 244dl]                             -3.1527      2.072     -1.522      0.137      -7.350       1.045\n",
            "name[T.volvo 245]                               -2.8126      2.147     -1.310      0.198      -7.163       1.538\n",
            "name[T.volvo 264gl]                             -7.6691      2.292     -3.347      0.002     -12.312      -3.026\n",
            "name[T.volvo diesel]                            -8.4864      5.333     -1.591      0.120     -19.293       2.320\n",
            "name[T.vw dasher (diesel)]                       5.9512      2.053      2.899      0.006       1.791      10.111\n",
            "name[T.vw pickup]                               12.1131      3.934      3.079      0.004       4.142      20.084\n",
            "name[T.vw rabbit]                               -5.4509      3.813     -1.429      0.161     -13.178       2.276\n",
            "name[T.vw rabbit c (diesel)]                     5.3495      1.999      2.677      0.011       1.300       9.399\n",
            "name[T.vw rabbit custom]                        -3.4794      4.020     -0.866      0.392     -11.624       4.665\n",
            "cylinders                                       -1.8569      1.087     -1.708      0.096      -4.060       0.346\n",
            "displacement                                    -0.0196      0.028     -0.696      0.491      -0.077       0.038\n",
            "weight                                           0.0004      0.003      0.123      0.903      -0.006       0.007\n",
            "acceleration                                    -0.7977      0.229     -3.487      0.001      -1.261      -0.334\n",
            "year                                             0.3996      0.159      2.514      0.016       0.077       0.722\n",
            "origin                                          -0.1437      3.308     -0.043      0.966      -6.846       6.558\n",
            "==============================================================================\n",
            "Omnibus:                       97.527   Durbin-Watson:                   1.816\n",
            "Prob(Omnibus):                  0.000   Jarque-Bera (JB):             3171.251\n",
            "Skew:                          -0.089   Prob(JB):                         0.00\n",
            "Kurtosis:                      16.845   Cond. No.                     7.09e+20\n",
            "==============================================================================\n",
            "\n",
            "Notes:\n",
            "[1] Standard Errors assume that the covariance matrix of the errors is correctly specified.\n",
            "[2] The input rank is higher than the number of observations.\n",
            "[3] The smallest eigenvalue is 7.56e-33. This might indicate that there are\n",
            "strong multicollinearity problems or that the design matrix is singular.\n"
          ]
        }
      ]
    },
    {
      "cell_type": "markdown",
      "source": [
        "I think it is essential to use a subset of predictors to improve the regression results. Although the r-squared value is solid, it appears that using multiple predictors has impacted the coefficients and most of them have p-values that are not statistically significant. "
      ],
      "metadata": {
        "id": "-viPTDydZEzc"
      }
    },
    {
      "cell_type": "markdown",
      "metadata": {
        "id": "2qOTtFfrAf7S"
      },
      "source": [
        "### If you think selecting a subset of predictors would help improve the regression results, explain which subset you choose and why."
      ]
    },
    {
      "cell_type": "code",
      "metadata": {
        "id": "JQDbxAcLAS-S",
        "outputId": "d1e6ac80-de99-45d1-a5f7-beeb06bdad54",
        "colab": {
          "base_uri": "https://localhost:8080/"
        }
      },
      "source": [
        "# show your code with your selected subset of predictors\n",
        "model = smf.ols(\"mpg ~ weight + year + origin\", data=auto_dataset).fit()\n",
        "\n",
        "print(model.summary())"
      ],
      "execution_count": 30,
      "outputs": [
        {
          "output_type": "stream",
          "name": "stdout",
          "text": [
            "                            OLS Regression Results                            \n",
            "==============================================================================\n",
            "Dep. Variable:                    mpg   R-squared:                       0.818\n",
            "Model:                            OLS   Adj. R-squared:                  0.817\n",
            "Method:                 Least Squares   F-statistic:                     588.8\n",
            "Date:                Fri, 17 Feb 2023   Prob (F-statistic):          5.69e-145\n",
            "Time:                        17:30:27   Log-Likelihood:                -1041.4\n",
            "No. Observations:                 397   AIC:                             2091.\n",
            "Df Residuals:                     393   BIC:                             2107.\n",
            "Df Model:                           3                                         \n",
            "Covariance Type:            nonrobust                                         \n",
            "==============================================================================\n",
            "                 coef    std err          t      P>|t|      [0.025      0.975]\n",
            "------------------------------------------------------------------------------\n",
            "Intercept    -18.2325      3.967     -4.596      0.000     -26.031     -10.434\n",
            "weight        -0.0060      0.000    -23.884      0.000      -0.007      -0.006\n",
            "year           0.7609      0.048     15.861      0.000       0.667       0.855\n",
            "origin         1.1534      0.258      4.473      0.000       0.646       1.660\n",
            "==============================================================================\n",
            "Omnibus:                       37.965   Durbin-Watson:                   1.263\n",
            "Prob(Omnibus):                  0.000   Jarque-Bera (JB):               71.617\n",
            "Skew:                           0.565   Prob(JB):                     2.81e-16\n",
            "Kurtosis:                       4.748   Cond. No.                     7.29e+04\n",
            "==============================================================================\n",
            "\n",
            "Notes:\n",
            "[1] Standard Errors assume that the covariance matrix of the errors is correctly specified.\n",
            "[2] The condition number is large, 7.29e+04. This might indicate that there are\n",
            "strong multicollinearity or other numerical problems.\n"
          ]
        }
      ]
    },
    {
      "cell_type": "markdown",
      "source": [
        "With these three factors, our r-squared value rises to 0.818 (lower than our previous r-squared), but our p-values for each coefficient go to 0! This indicates that we are using useful predictors and that the data is processed correctly."
      ],
      "metadata": {
        "id": "m3QnrJBxbZt_"
      }
    },
    {
      "cell_type": "markdown",
      "metadata": {
        "id": "eUF3QLhtAvQD"
      },
      "source": [
        "## 3. Add interaction effects"
      ]
    },
    {
      "cell_type": "code",
      "metadata": {
        "id": "qzf1SWAmOoMb",
        "outputId": "caea3240-c630-42a6-ad47-b22d5d385fea",
        "colab": {
          "base_uri": "https://localhost:8080/"
        }
      },
      "source": [
        "# try with all possible Interaction combinations, which combination is significant to the response?\n",
        "\n",
        "model = smf.ols(\"mpg ~ ((weight + year + origin) + (weight * year * origin))\", data=auto_dataset).fit()\n",
        "\n",
        "print(model.summary())"
      ],
      "execution_count": 6,
      "outputs": [
        {
          "output_type": "stream",
          "name": "stdout",
          "text": [
            "                            OLS Regression Results                            \n",
            "==============================================================================\n",
            "Dep. Variable:                    mpg   R-squared:                       0.851\n",
            "Model:                            OLS   Adj. R-squared:                  0.848\n",
            "Method:                 Least Squares   F-statistic:                     316.4\n",
            "Date:                Fri, 17 Feb 2023   Prob (F-statistic):          2.79e-156\n",
            "Time:                        17:37:38   Log-Likelihood:                -1002.2\n",
            "No. Observations:                 397   AIC:                             2020.\n",
            "Df Residuals:                     389   BIC:                             2052.\n",
            "Df Model:                           7                                         \n",
            "Covariance Type:            nonrobust                                         \n",
            "======================================================================================\n",
            "                         coef    std err          t      P>|t|      [0.025      0.975]\n",
            "--------------------------------------------------------------------------------------\n",
            "Intercept           -215.8884     35.227     -6.128      0.000    -285.148    -146.629\n",
            "weight                 0.0717      0.013      5.402      0.000       0.046       0.098\n",
            "year                   3.3181      0.462      7.175      0.000       2.409       4.227\n",
            "origin                98.0954     25.005      3.923      0.000      48.933     147.258\n",
            "weight:year           -0.0010      0.000     -5.757      0.000      -0.001      -0.001\n",
            "weight:origin         -0.0426      0.011     -3.958      0.000      -0.064      -0.021\n",
            "year:origin           -1.2159      0.324     -3.748      0.000      -1.854      -0.578\n",
            "weight:year:origin     0.0005      0.000      3.823      0.000       0.000       0.001\n",
            "==============================================================================\n",
            "Omnibus:                       50.159   Durbin-Watson:                   1.455\n",
            "Prob(Omnibus):                  0.000   Jarque-Bera (JB):              114.541\n",
            "Skew:                           0.657   Prob(JB):                     1.34e-25\n",
            "Kurtosis:                       5.280   Cond. No.                     1.13e+08\n",
            "==============================================================================\n",
            "\n",
            "Notes:\n",
            "[1] Standard Errors assume that the covariance matrix of the errors is correctly specified.\n",
            "[2] The condition number is large, 1.13e+08. This might indicate that there are\n",
            "strong multicollinearity or other numerical problems.\n"
          ]
        }
      ]
    },
    {
      "cell_type": "markdown",
      "source": [
        "This one improved our r-squared value without increasing our p-values for the coefficients!"
      ],
      "metadata": {
        "id": "qPR8t9_KdU18"
      }
    },
    {
      "cell_type": "code",
      "source": [
        "model = smf.ols(\"mpg ~ ((year + origin) + (year * origin))\", data=auto_dataset).fit()\n",
        "\n",
        "print(model.summary())"
      ],
      "metadata": {
        "id": "zaTMI9zrdLVj",
        "outputId": "6c029891-8bc7-4cec-cbbb-a31f6fa5cdbb",
        "colab": {
          "base_uri": "https://localhost:8080/"
        }
      },
      "execution_count": 7,
      "outputs": [
        {
          "output_type": "stream",
          "name": "stdout",
          "text": [
            "                            OLS Regression Results                            \n",
            "==============================================================================\n",
            "Dep. Variable:                    mpg   R-squared:                       0.557\n",
            "Model:                            OLS   Adj. R-squared:                  0.554\n",
            "Method:                 Least Squares   F-statistic:                     164.8\n",
            "Date:                Fri, 17 Feb 2023   Prob (F-statistic):           3.69e-69\n",
            "Time:                        17:38:41   Log-Likelihood:                -1217.9\n",
            "No. Observations:                 397   AIC:                             2444.\n",
            "Df Residuals:                     393   BIC:                             2460.\n",
            "Df Model:                           3                                         \n",
            "Covariance Type:            nonrobust                                         \n",
            "===============================================================================\n",
            "                  coef    std err          t      P>|t|      [0.025      0.975]\n",
            "-------------------------------------------------------------------------------\n",
            "Intercept     -81.6718     12.005     -6.803      0.000    -105.273     -58.070\n",
            "year            1.2873      0.158      8.165      0.000       0.977       1.597\n",
            "origin         16.2851      6.853      2.376      0.018       2.811      29.759\n",
            "year:origin    -0.1521      0.089     -1.706      0.089      -0.327       0.023\n",
            "==============================================================================\n",
            "Omnibus:                       12.721   Durbin-Watson:                   1.131\n",
            "Prob(Omnibus):                  0.002   Jarque-Bera (JB):               13.481\n",
            "Skew:                           0.448   Prob(JB):                      0.00118\n",
            "Kurtosis:                       2.887   Cond. No.                     7.87e+03\n",
            "==============================================================================\n",
            "\n",
            "Notes:\n",
            "[1] Standard Errors assume that the covariance matrix of the errors is correctly specified.\n",
            "[2] The condition number is large, 7.87e+03. This might indicate that there are\n",
            "strong multicollinearity or other numerical problems.\n"
          ]
        }
      ]
    },
    {
      "cell_type": "markdown",
      "source": [
        "This one did not improve upon any parts of our model."
      ],
      "metadata": {
        "id": "8QUIp4-FdEMQ"
      }
    },
    {
      "cell_type": "code",
      "source": [
        "model = smf.ols(\"mpg ~ ((weight + year + origin + cylinders + displacement) + (weight * year * origin * cylinders * displacement))\", data=auto_dataset).fit()\n",
        "\n",
        "print(model.summary())"
      ],
      "metadata": {
        "id": "An6E6j_UdaLH",
        "outputId": "18053439-48d3-46e6-d371-3437dc67e772",
        "colab": {
          "base_uri": "https://localhost:8080/"
        }
      },
      "execution_count": 8,
      "outputs": [
        {
          "output_type": "stream",
          "name": "stdout",
          "text": [
            "                            OLS Regression Results                            \n",
            "==============================================================================\n",
            "Dep. Variable:                    mpg   R-squared:                       0.884\n",
            "Model:                            OLS   Adj. R-squared:                  0.874\n",
            "Method:                 Least Squares   F-statistic:                     89.35\n",
            "Date:                Fri, 17 Feb 2023   Prob (F-statistic):          2.02e-150\n",
            "Time:                        17:39:58   Log-Likelihood:                -952.75\n",
            "No. Observations:                 397   AIC:                             1969.\n",
            "Df Residuals:                     365   BIC:                             2097.\n",
            "Df Model:                          31                                         \n",
            "Covariance Type:            nonrobust                                         \n",
            "=============================================================================================================\n",
            "                                                coef    std err          t      P>|t|      [0.025      0.975]\n",
            "-------------------------------------------------------------------------------------------------------------\n",
            "Intercept                                 -3452.8159   2248.845     -1.535      0.126   -7875.135     969.503\n",
            "weight                                        1.2915      0.924      1.398      0.163      -0.526       3.109\n",
            "year                                         48.4206     29.596      1.636      0.103      -9.779     106.620\n",
            "origin                                     2563.8916   2208.211      1.161      0.246   -1778.521    6906.304\n",
            "cylinders                                   768.2315    550.143      1.396      0.163    -313.616    1850.079\n",
            "displacement                                 16.5617     16.626      0.996      0.320     -16.133      49.256\n",
            "weight:year                                  -0.0178      0.012     -1.473      0.141      -0.042       0.006\n",
            "weight:origin                                -0.9588      0.911     -1.053      0.293      -2.750       0.832\n",
            "year:origin                                 -35.8814     29.055     -1.235      0.218     -93.017      21.255\n",
            "weight:year:origin                            0.0133      0.012      1.115      0.266      -0.010       0.037\n",
            "weight:cylinders                             -0.2747      0.225     -1.222      0.223      -0.717       0.168\n",
            "year:cylinders                              -10.7017      7.232     -1.480      0.140     -24.924       3.521\n",
            "weight:year:cylinders                         0.0038      0.003      1.292      0.197      -0.002       0.010\n",
            "origin:cylinders                           -626.4788    544.269     -1.151      0.250   -1696.775     443.817\n",
            "weight:origin:cylinders                       0.2242      0.224      1.003      0.317      -0.215       0.664\n",
            "year:origin:cylinders                         8.7978      7.152      1.230      0.219      -5.266      22.862\n",
            "weight:year:origin:cylinders                 -0.0031      0.003     -1.069      0.286      -0.009       0.003\n",
            "weight:displacement                          -0.0063      0.007     -0.953      0.341      -0.019       0.007\n",
            "year:displacement                            -0.2307      0.219     -1.055      0.292      -0.661       0.199\n",
            "weight:year:displacement                   8.663e-05   8.65e-05      1.001      0.317   -8.35e-05       0.000\n",
            "origin:displacement                         -14.5213     16.405     -0.885      0.377     -46.781      17.739\n",
            "weight:origin:displacement                    0.0053      0.007      0.816      0.415      -0.008       0.018\n",
            "year:origin:displacement                      0.2023      0.216      0.937      0.349      -0.222       0.627\n",
            "weight:year:origin:displacement           -7.384e-05   8.58e-05     -0.860      0.390      -0.000     9.5e-05\n",
            "cylinders:displacement                       -4.4960      4.044     -1.112      0.267     -12.448       3.456\n",
            "weight:cylinders:displacement                 0.0016      0.002      1.010      0.313      -0.002       0.005\n",
            "year:cylinders:displacement                   0.0623      0.053      1.172      0.242      -0.042       0.167\n",
            "weight:year:cylinders:displacement        -2.227e-05    2.1e-05     -1.061      0.289   -6.35e-05     1.9e-05\n",
            "origin:cylinders:displacement                 4.1418      4.027      1.028      0.304      -3.778      12.062\n",
            "weight:origin:cylinders:displacement         -0.0015      0.002     -0.922      0.357      -0.005       0.002\n",
            "year:origin:cylinders:displacement           -0.0575      0.053     -1.086      0.278      -0.162       0.047\n",
            "weight:year:origin:cylinders:displacement  2.033e-05   2.09e-05      0.971      0.332   -2.08e-05    6.15e-05\n",
            "==============================================================================\n",
            "Omnibus:                       80.691   Durbin-Watson:                   1.425\n",
            "Prob(Omnibus):                  0.000   Jarque-Bera (JB):              236.146\n",
            "Skew:                           0.937   Prob(JB):                     5.27e-52\n",
            "Kurtosis:                       6.280   Cond. No.                     1.57e+13\n",
            "==============================================================================\n",
            "\n",
            "Notes:\n",
            "[1] Standard Errors assume that the covariance matrix of the errors is correctly specified.\n",
            "[2] The condition number is large, 1.57e+13. This might indicate that there are\n",
            "strong multicollinearity or other numerical problems.\n"
          ]
        }
      ]
    },
    {
      "cell_type": "markdown",
      "source": [
        "Great r-squared value, terrible p-values!"
      ],
      "metadata": {
        "id": "Fo4yEoj1dmFE"
      }
    },
    {
      "cell_type": "code",
      "source": [
        "model = smf.ols(\"mpg ~ ((weight + year + origin) + (year * origin))\", data=auto_dataset).fit()\n",
        "\n",
        "print(model.summary())"
      ],
      "metadata": {
        "id": "FZrGDzH0doep",
        "outputId": "d8ef9a93-f96e-4a0d-a00c-b2d0c9d9d778",
        "colab": {
          "base_uri": "https://localhost:8080/"
        }
      },
      "execution_count": 9,
      "outputs": [
        {
          "output_type": "stream",
          "name": "stdout",
          "text": [
            "                            OLS Regression Results                            \n",
            "==============================================================================\n",
            "Dep. Variable:                    mpg   R-squared:                       0.824\n",
            "Model:                            OLS   Adj. R-squared:                  0.822\n",
            "Method:                 Least Squares   F-statistic:                     458.7\n",
            "Date:                Fri, 17 Feb 2023   Prob (F-statistic):          2.27e-146\n",
            "Time:                        17:40:29   Log-Likelihood:                -1034.8\n",
            "No. Observations:                 397   AIC:                             2080.\n",
            "Df Residuals:                     392   BIC:                             2100.\n",
            "Df Model:                           4                                         \n",
            "Covariance Type:            nonrobust                                         \n",
            "===============================================================================\n",
            "                  coef    std err          t      P>|t|      [0.025      0.975]\n",
            "-------------------------------------------------------------------------------\n",
            "Intercept       8.9789      8.442      1.064      0.288      -7.618      25.576\n",
            "weight         -0.0063      0.000    -24.374      0.000      -0.007      -0.006\n",
            "year            0.4169      0.106      3.942      0.000       0.209       0.625\n",
            "origin        -15.2403      4.516     -3.375      0.001     -24.118      -6.362\n",
            "year:origin     0.2118      0.058      3.636      0.000       0.097       0.326\n",
            "==============================================================================\n",
            "Omnibus:                       37.962   Durbin-Watson:                   1.305\n",
            "Prob(Omnibus):                  0.000   Jarque-Bera (JB):               68.856\n",
            "Skew:                           0.578   Prob(JB):                     1.12e-15\n",
            "Kurtosis:                       4.681   Cond. No.                     1.75e+05\n",
            "==============================================================================\n",
            "\n",
            "Notes:\n",
            "[1] Standard Errors assume that the covariance matrix of the errors is correctly specified.\n",
            "[2] The condition number is large, 1.75e+05. This might indicate that there are\n",
            "strong multicollinearity or other numerical problems.\n"
          ]
        }
      ]
    },
    {
      "cell_type": "markdown",
      "source": [
        "Removing weight from the interaction effect increased our p-squared value for the intercept. While the .288 value isn't insignificant, it is not amazing."
      ],
      "metadata": {
        "id": "xcWKhAAmdsX8"
      }
    },
    {
      "cell_type": "code",
      "source": [
        "model = smf.ols(\"mpg ~ ((weight + year + origin) + (weight * origin))\", data=auto_dataset).fit()\n",
        "\n",
        "print(model.summary())"
      ],
      "metadata": {
        "id": "MGh_bOlbd5eq",
        "outputId": "b9c0358a-b1a4-4905-96a9-89cb9ad97014",
        "colab": {
          "base_uri": "https://localhost:8080/"
        }
      },
      "execution_count": 10,
      "outputs": [
        {
          "output_type": "stream",
          "name": "stdout",
          "text": [
            "                            OLS Regression Results                            \n",
            "==============================================================================\n",
            "Dep. Variable:                    mpg   R-squared:                       0.828\n",
            "Model:                            OLS   Adj. R-squared:                  0.826\n",
            "Method:                 Least Squares   F-statistic:                     470.9\n",
            "Date:                Fri, 17 Feb 2023   Prob (F-statistic):          3.26e-148\n",
            "Time:                        17:41:38   Log-Likelihood:                -1030.5\n",
            "No. Observations:                 397   AIC:                             2071.\n",
            "Df Residuals:                     392   BIC:                             2091.\n",
            "Df Model:                           4                                         \n",
            "Covariance Type:            nonrobust                                         \n",
            "=================================================================================\n",
            "                    coef    std err          t      P>|t|      [0.025      0.975]\n",
            "---------------------------------------------------------------------------------\n",
            "Intercept       -26.6710      4.261     -6.260      0.000     -35.048     -18.294\n",
            "weight           -0.0034      0.001     -5.508      0.000      -0.005      -0.002\n",
            "year              0.7865      0.047     16.717      0.000       0.694       0.879\n",
            "origin            6.4500      1.154      5.588      0.000       4.181       8.719\n",
            "weight:origin    -0.0023      0.000     -4.701      0.000      -0.003      -0.001\n",
            "==============================================================================\n",
            "Omnibus:                       46.077   Durbin-Watson:                   1.341\n",
            "Prob(Omnibus):                  0.000   Jarque-Bera (JB):               87.548\n",
            "Skew:                           0.669   Prob(JB):                     9.76e-20\n",
            "Kurtosis:                       4.871   Cond. No.                     1.41e+05\n",
            "==============================================================================\n",
            "\n",
            "Notes:\n",
            "[1] Standard Errors assume that the covariance matrix of the errors is correctly specified.\n",
            "[2] The condition number is large, 1.41e+05. This might indicate that there are\n",
            "strong multicollinearity or other numerical problems.\n"
          ]
        }
      ]
    },
    {
      "cell_type": "markdown",
      "source": [
        "This model is solid and indicates a good fit with solid p-values."
      ],
      "metadata": {
        "id": "_cieY23gd5Fa"
      }
    },
    {
      "cell_type": "markdown",
      "source": [
        "Overall, I would add the initial interaction effect of (weight + year + origin) + (weight * year \\* origin)"
      ],
      "metadata": {
        "id": "wR4-MFBFeD4l"
      }
    },
    {
      "cell_type": "markdown",
      "metadata": {
        "id": "GLNfs6SUMzGn"
      },
      "source": [
        "## 4. Explore non-linear effects of predictors. e.g. polynomial"
      ]
    },
    {
      "cell_type": "code",
      "metadata": {
        "id": "DiQ1yssjM2hG",
        "outputId": "919b0c96-cfa6-4f7b-a9d2-ed6c28928123",
        "colab": {
          "base_uri": "https://localhost:8080/"
        }
      },
      "source": [
        "# show your code for one predictor's result here with non-linear effects\n",
        "\n",
        "model = smf.ols(\"mpg ~ displacement + np.power(displacement, 2)\", data=auto_dataset).fit()\n",
        "\n",
        "print(\"\\nLinear Regression for MPG using Column: displacement\")\n",
        "print(model.summary())\n",
        "print(\"\\n\")"
      ],
      "execution_count": 13,
      "outputs": [
        {
          "output_type": "stream",
          "name": "stdout",
          "text": [
            "\n",
            "Linear Regression for MPG using Column: displacement\n",
            "                            OLS Regression Results                            \n",
            "==============================================================================\n",
            "Dep. Variable:                    mpg   R-squared:                       0.689\n",
            "Model:                            OLS   Adj. R-squared:                  0.687\n",
            "Method:                 Least Squares   F-statistic:                     435.6\n",
            "Date:                Fri, 17 Feb 2023   Prob (F-statistic):          1.55e-100\n",
            "Time:                        17:44:56   Log-Likelihood:                -1148.0\n",
            "No. Observations:                 397   AIC:                             2302.\n",
            "Df Residuals:                     394   BIC:                             2314.\n",
            "Df Model:                           2                                         \n",
            "Covariance Type:            nonrobust                                         \n",
            "=============================================================================================\n",
            "                                coef    std err          t      P>|t|      [0.025      0.975]\n",
            "---------------------------------------------------------------------------------------------\n",
            "Intercept                    42.2035      1.074     39.301      0.000      40.092      44.315\n",
            "displacement                 -0.1393      0.011    -12.539      0.000      -0.161      -0.117\n",
            "np.power(displacement, 2)     0.0002   2.36e-05      7.242      0.000       0.000       0.000\n",
            "==============================================================================\n",
            "Omnibus:                       42.434   Durbin-Watson:                   0.936\n",
            "Prob(Omnibus):                  0.000   Jarque-Bera (JB):               99.950\n",
            "Skew:                           0.548   Prob(JB):                     1.98e-22\n",
            "Kurtosis:                       5.200   Cond. No.                     3.36e+05\n",
            "==============================================================================\n",
            "\n",
            "Notes:\n",
            "[1] Standard Errors assume that the covariance matrix of the errors is correctly specified.\n",
            "[2] The condition number is large, 3.36e+05. This might indicate that there are\n",
            "strong multicollinearity or other numerical problems.\n",
            "\n",
            "\n"
          ]
        }
      ]
    },
    {
      "cell_type": "markdown",
      "source": [
        "Our r-squared value increased from .647 to .689! This is a solid increase without affecting our p-values (0.000) at all. "
      ],
      "metadata": {
        "id": "Tzr1gkB8ex8h"
      }
    },
    {
      "cell_type": "markdown",
      "source": [
        "# Part 2 - Autoregression"
      ],
      "metadata": {
        "id": "G1Rr8G1ZzHAn"
      }
    },
    {
      "cell_type": "markdown",
      "source": [
        "## 0. Reading the data"
      ],
      "metadata": {
        "id": "DxokDoxnz_o-"
      }
    },
    {
      "cell_type": "markdown",
      "source": [
        "Let's look at a dataset that describes the minimum daily temperatures over 10 years (1981-1990) in the city of Melbourne, Australia.\n",
        "\n",
        "The units are in degrees Celsius and there are 3,650 observations. The source of the data is the Australian Bureau of Meteorology.\n",
        "\n",
        "Note: This dataset ignores a day in leap years for consistent number of observations (365) in each year."
      ],
      "metadata": {
        "id": "lxBefnx_zgqB"
      }
    },
    {
      "cell_type": "code",
      "source": [
        "# Read in data and fill in missing values\n",
        "\n",
        "melb = pd.read_csv('/content/csv/daily-min-temp-melb.csv', parse_dates=['date'], index_col='date')\n",
        "\n",
        "# Filled in missing values using linear interpolation\n",
        "melb = melb.interpolate(method='linear')\n",
        "\n",
        "# Display the first 10 rows of the data\n",
        "print(melb.head(10))"
      ],
      "metadata": {
        "id": "LKl9yPhvzh7d",
        "outputId": "1bd9f24b-dbf6-4664-f7c8-3d3310d89387",
        "colab": {
          "base_uri": "https://localhost:8080/"
        }
      },
      "execution_count": 22,
      "outputs": [
        {
          "output_type": "stream",
          "name": "stdout",
          "text": [
            "            min_temp\n",
            "date                \n",
            "1981-01-01      20.7\n",
            "1981-01-02      17.9\n",
            "1981-01-03      18.8\n",
            "1981-01-04      14.6\n",
            "1981-01-05      15.8\n",
            "1981-01-06      15.8\n",
            "1981-01-07      15.8\n",
            "1981-01-08      17.4\n",
            "1981-01-09      21.8\n",
            "1981-01-10      20.0\n"
          ]
        }
      ]
    },
    {
      "cell_type": "markdown",
      "source": [
        "## 1. Visualizing the data"
      ],
      "metadata": {
        "id": "7YGLawXX0hAW"
      }
    },
    {
      "cell_type": "markdown",
      "source": [
        "\n",
        "\n",
        "Let's visualize what the minimum daily temperature data looks like. Alongside with it, we also plot the rolling mean to smooth out variations in each 365-day window.\n",
        "\n",
        "NOTE: The rolling mean appears to start high and then stabilize after about 365 days because in the first year, it just averages the observations it does have in that window (≤\n",
        "365). This makes the rolling mean higher for that period since the temperates are higher early on.\n",
        "\n"
      ],
      "metadata": {
        "id": "LbxBqIbAzzW1"
      }
    },
    {
      "cell_type": "code",
      "source": [
        "# Plotting the original data and the 365 day rolling mean\n",
        "rolling_mean = melb.rolling(window=365).mean()\n",
        "\n",
        "fig, ax = plt.subplots()\n",
        "melb.plot(ax=ax, label='Original Data')\n",
        "rolling_mean.plot(ax=ax, label='365-Day Rolling Mean')\n",
        "ax.set_xlabel('Year')\n",
        "ax.set_ylabel('Temperature (C)')\n",
        "ax.set_title('Minimum Daily Temperatures in Melbourne, Australia (1981-1990)')\n",
        "ax.legend()\n",
        "plt.show()"
      ],
      "metadata": {
        "id": "H3uwya-00TXd",
        "outputId": "dcbb8646-4515-40bd-9638-3aee40af3645",
        "colab": {
          "base_uri": "https://localhost:8080/",
          "height": 285
        }
      },
      "execution_count": 23,
      "outputs": [
        {
          "output_type": "display_data",
          "data": {
            "text/plain": [
              "<Figure size 432x288 with 1 Axes>"
            ],
            "image/png": "[encoded data removed]"
          },
          "metadata": {
            "needs_background": "light"
          }
        }
      ]
    },
    {
      "cell_type": "markdown",
      "source": [
        "Autoregression relies on the relationship between a value at a particular time step (say, t), and the values at earlier time steps (t-1, t-2, and so on) or **lags**. Using a lag plot, we can visualize how the previous time step relates with the current one. Visualize the lag plot for the data using different lag values and describe the relationship you see as the lag increases. (Hint: use *lag_plot* from *pandas.plotting*)"
      ],
      "metadata": {
        "id": "w1ZC1wLtzzb0"
      }
    },
    {
      "cell_type": "code",
      "source": [
        "# Visualizing the lag plot\n",
        "from pandas.plotting import lag_plot\n",
        "\n",
        "fig, axs = plt.subplots(2, 3, figsize=(10, 10))\n",
        "lags = [1, 2, 4, 10, 20, 50]\n",
        "for lag, ax in zip(lags, axs.ravel()):\n",
        "    lag_plot(melb, lag=lag, ax=ax)\n",
        "    ax.set_title(f'Lag={lag}')\n",
        "plt.show()"
      ],
      "metadata": {
        "id": "EDj4qyV41GFn",
        "outputId": "28b5bd6e-f0ce-444e-8cb5-e1f1f81be836",
        "colab": {
          "base_uri": "https://localhost:8080/",
          "height": 621
        }
      },
      "execution_count": 25,
      "outputs": [
        {
          "output_type": "display_data",
          "data": {
            "text/plain": [
              "<Figure size 720x720 with 6 Axes>"
            ],
            "image/png": "[encoded data removed]"
          },
          "metadata": {
            "needs_background": "light"
          }
        }
      ]
    },
    {
      "cell_type": "markdown",
      "source": [
        "As the lag increases, so does the overall variance in points. Initially, the plots are mostly skinny and linear, but as we increase the lag the points spread out more and more, indicating that the relationship between the earlier time step and the current one is weaker. This makes sense as the older time steps' temperatures (lag=50) should not be as important when predicting future ones."
      ],
      "metadata": {
        "id": "ig6X4wl6qe0j"
      }
    },
    {
      "cell_type": "markdown",
      "source": [
        "## 2. Auto-Regression Model"
      ],
      "metadata": {
        "id": "fXa2D-m81XzZ"
      }
    },
    {
      "cell_type": "markdown",
      "source": [
        "We will now use a simple Autoregression model for the task of forecasting ahead. We have minimum-temperature data for 10 years, so let's say we want to predict the last 7 days of this 10-year period using the other observations before it (3650-7 = 3643)"
      ],
      "metadata": {
        "id": "HpCFEUli1bIB"
      }
    },
    {
      "cell_type": "code",
      "source": [
        "# Define the train set, all days but the last 7: 1981-01-01 to 1990-12-24\n",
        "train = melb.iloc[:-7]\n",
        "# Define the test set: The last 7 days: 1990-12-25 to 1990-12-31\n",
        "test = melb.iloc[-7:]\n",
        "\n",
        "print(train)\n",
        "print(test)"
      ],
      "metadata": {
        "id": "8cGhb2y01l2W",
        "outputId": "6cbe60d3-82f9-42a3-9a38-e42292f57484",
        "colab": {
          "base_uri": "https://localhost:8080/"
        }
      },
      "execution_count": 27,
      "outputs": [
        {
          "output_type": "stream",
          "name": "stdout",
          "text": [
            "            min_temp\n",
            "date                \n",
            "1981-01-01      20.7\n",
            "1981-01-02      17.9\n",
            "1981-01-03      18.8\n",
            "1981-01-04      14.6\n",
            "1981-01-05      15.8\n",
            "...              ...\n",
            "1990-12-20      15.4\n",
            "1990-12-21      13.1\n",
            "1990-12-22      13.2\n",
            "1990-12-23      13.9\n",
            "1990-12-24      10.0\n",
            "\n",
            "[3643 rows x 1 columns]\n",
            "            min_temp\n",
            "date                \n",
            "1990-12-25      12.9\n",
            "1990-12-26      14.6\n",
            "1990-12-27      14.0\n",
            "1990-12-28      13.6\n",
            "1990-12-29      13.5\n",
            "1990-12-30      15.7\n",
            "1990-12-31      13.0\n"
          ]
        }
      ]
    },
    {
      "cell_type": "markdown",
      "source": [
        "**Note:** The statsmodels library has autoregression models, but the syntax is slightly different from that of sklearn.\n",
        "\n",
        "*   While defining the model object, we pass in the time-series we want to forecast (Instead of during fitting)\n",
        "*   The .fit() function takes in the maxlag argument (Instead of the doing this during object declaration)"
      ],
      "metadata": {
        "id": "LXRAiD5Z1yRU"
      }
    },
    {
      "cell_type": "code",
      "source": [
        "from statsmodels.tsa.ar_model import AR\n",
        "\n",
        "# Implement the AR model\n",
        "maxlag = 1\n",
        "\n",
        "ar = AR(train)\n",
        "arfit = ar.fit(maxlag=maxlag)"
      ],
      "metadata": {
        "id": "tGyeF4WA2JBt"
      },
      "execution_count": 72,
      "outputs": []
    },
    {
      "cell_type": "markdown",
      "source": [
        "We can also visualize the model by plotting the true minimum temperature with the AR predictions. We can also check if our predictions improve if we consider more time lags of observations for Autoregression. (Check by setting maxlag=2, 3, 365 etc.)"
      ],
      "metadata": {
        "id": "CvOYW28w2jKZ"
      }
    },
    {
      "cell_type": "code",
      "source": [
        "# Add predictions to the test dataframe and visualize the model\n",
        "test_dates = test.index[-7:]\n",
        "\n",
        "predictions = arfit.predict(start=3643, end=3649)\n",
        "\n",
        "# Convert x values to dates to plot on same plot\n",
        "predictions_df = pd.DataFrame({'date': test_dates, 'predictions': predictions})\n",
        "# Plot the true values and the predictions\n",
        "plt.plot(test, label='True Values')\n",
        "plt.plot(predictions_df['date'], predictions_df['predictions'], label='Predictions')\n",
        "plt.xlabel('Day')\n",
        "plt.ylabel('Minimum Temperature (Celsius)')\n",
        "plt.title('AR Model Predictions with Lag k=' + str(maxlag))\n",
        "plt.legend()\n",
        "plt.show()"
      ],
      "metadata": {
        "id": "wtZXl5kX2dmV",
        "outputId": "2d1c87d4-03bc-4417-c618-0008e101f5f9",
        "colab": {
          "base_uri": "https://localhost:8080/",
          "height": 295
        }
      },
      "execution_count": 73,
      "outputs": [
        {
          "output_type": "display_data",
          "data": {
            "text/plain": [
              "<Figure size 432x288 with 1 Axes>"
            ],
            "image/png": "[encoded data removed]"
          },
          "metadata": {
            "needs_background": "light"
          }
        }
      ]
    },
    {
      "cell_type": "code",
      "source": [
        "maxlag = 2\n",
        "\n",
        "ar = AR(train)\n",
        "arfit = ar.fit(maxlag=maxlag)\n",
        "# Add predictions to the test dataframe and visualize the model\n",
        "test_dates = test.index[-7:]\n",
        "\n",
        "predictions = arfit.predict(start=3643, end=3649)\n",
        "\n",
        "# Convert x values to dates to plot on same plot\n",
        "predictions_df = pd.DataFrame({'date': test_dates, 'predictions': predictions})\n",
        "# Plot the true values and the predictions\n",
        "plt.plot(test, label='True Values')\n",
        "plt.plot(predictions_df['date'], predictions_df['predictions'], label='Predictions')\n",
        "plt.xlabel('Day')\n",
        "plt.ylabel('Minimum Temperature (Celsius)')\n",
        "plt.title('AR Model Predictions with Lag k=' + str(maxlag))\n",
        "plt.legend()\n",
        "plt.show()"
      ],
      "metadata": {
        "id": "z8jagbfGzSSk",
        "outputId": "9e70ad55-da3d-4838-a4db-8d1202a007fb",
        "colab": {
          "base_uri": "https://localhost:8080/",
          "height": 295
        }
      },
      "execution_count": 74,
      "outputs": [
        {
          "output_type": "display_data",
          "data": {
            "text/plain": [
              "<Figure size 432x288 with 1 Axes>"
            ],
            "image/png": "[encoded data removed]"
          },
          "metadata": {
            "needs_background": "light"
          }
        }
      ]
    },
    {
      "cell_type": "code",
      "source": [
        "maxlag = 3\n",
        "\n",
        "ar = AR(train)\n",
        "arfit = ar.fit(maxlag=maxlag)\n",
        "# Add predictions to the test dataframe and visualize the model\n",
        "test_dates = test.index[-7:]\n",
        "\n",
        "predictions = arfit.predict(start=3643, end=3649)\n",
        "\n",
        "# Convert x values to dates to plot on same plot\n",
        "predictions_df = pd.DataFrame({'date': test_dates, 'predictions': predictions})\n",
        "# Plot the true values and the predictions\n",
        "plt.plot(test, label='True Values')\n",
        "plt.plot(predictions_df['date'], predictions_df['predictions'], label='Predictions')\n",
        "plt.xlabel('Day')\n",
        "plt.ylabel('Minimum Temperature (Celsius)')\n",
        "plt.title('AR Model Predictions with Lag k=' + str(maxlag))\n",
        "plt.legend()\n",
        "plt.show()"
      ],
      "metadata": {
        "id": "bncsEbdMzVhe",
        "outputId": "1011ce63-0bcf-4de6-a25a-440e7fa68ffe",
        "colab": {
          "base_uri": "https://localhost:8080/",
          "height": 295
        }
      },
      "execution_count": 75,
      "outputs": [
        {
          "output_type": "display_data",
          "data": {
            "text/plain": [
              "<Figure size 432x288 with 1 Axes>"
            ],
            "image/png": "[encoded data removed]"
          },
          "metadata": {
            "needs_background": "light"
          }
        }
      ]
    },
    {
      "cell_type": "code",
      "source": [
        "maxlag = 20\n",
        "\n",
        "ar = AR(train)\n",
        "arfit = ar.fit(maxlag=maxlag)\n",
        "# Add predictions to the test dataframe and visualize the model\n",
        "test_dates = test.index[-7:]\n",
        "\n",
        "predictions = arfit.predict(start=3643, end=3649)\n",
        "\n",
        "# Convert x values to dates to plot on same plot\n",
        "predictions_df = pd.DataFrame({'date': test_dates, 'predictions': predictions})\n",
        "# Plot the true values and the predictions\n",
        "plt.plot(test, label='True Values')\n",
        "plt.plot(predictions_df['date'], predictions_df['predictions'], label='Predictions')\n",
        "plt.xlabel('Day')\n",
        "plt.ylabel('Minimum Temperature (Celsius)')\n",
        "plt.title('AR Model Predictions with Lag k=' + str(maxlag))\n",
        "plt.legend()\n",
        "plt.show()"
      ],
      "metadata": {
        "id": "lQZatyGRzd8v",
        "outputId": "23f33a40-6651-4b42-a805-d05f815ae95f",
        "colab": {
          "base_uri": "https://localhost:8080/",
          "height": 295
        }
      },
      "execution_count": 76,
      "outputs": [
        {
          "output_type": "display_data",
          "data": {
            "text/plain": [
              "<Figure size 432x288 with 1 Axes>"
            ],
            "image/png": "[encoded data removed]"
          },
          "metadata": {
            "needs_background": "light"
          }
        }
      ]
    },
    {
      "cell_type": "code",
      "source": [
        "maxlag = 50\n",
        "\n",
        "ar = AR(train)\n",
        "arfit = ar.fit(maxlag=maxlag)\n",
        "# Add predictions to the test dataframe and visualize the model\n",
        "test_dates = test.index[-7:]\n",
        "\n",
        "predictions = arfit.predict(start=3643, end=3649)\n",
        "\n",
        "# Convert x values to dates to plot on same plot\n",
        "predictions_df = pd.DataFrame({'date': test_dates, 'predictions': predictions})\n",
        "# Plot the true values and the predictions\n",
        "plt.plot(test, label='True Values')\n",
        "plt.plot(predictions_df['date'], predictions_df['predictions'], label='Predictions')\n",
        "plt.xlabel('Day')\n",
        "plt.ylabel('Minimum Temperature (Celsius)')\n",
        "plt.title('AR Model Predictions with Lag k=' + str(maxlag))\n",
        "plt.legend()\n",
        "plt.show()"
      ],
      "metadata": {
        "id": "X0YJnCPyziqF",
        "outputId": "bb9bbc53-11f6-4d4e-f2bc-4032fb65951d",
        "colab": {
          "base_uri": "https://localhost:8080/",
          "height": 295
        }
      },
      "execution_count": 77,
      "outputs": [
        {
          "output_type": "display_data",
          "data": {
            "text/plain": [
              "<Figure size 432x288 with 1 Axes>"
            ],
            "image/png": "[encoded data removed]"
          },
          "metadata": {
            "needs_background": "light"
          }
        }
      ]
    },
    {
      "cell_type": "code",
      "source": [
        "maxlag = 100\n",
        "\n",
        "ar = AR(train)\n",
        "arfit = ar.fit(maxlag=maxlag)\n",
        "# Add predictions to the test dataframe and visualize the model\n",
        "test_dates = test.index[-7:]\n",
        "\n",
        "predictions = arfit.predict(start=3643, end=3649)\n",
        "\n",
        "# Convert x values to dates to plot on same plot\n",
        "predictions_df = pd.DataFrame({'date': test_dates, 'predictions': predictions})\n",
        "# Plot the true values and the predictions\n",
        "plt.plot(test, label='True Values')\n",
        "plt.plot(predictions_df['date'], predictions_df['predictions'], label='Predictions')\n",
        "plt.xlabel('Day')\n",
        "plt.ylabel('Minimum Temperature (Celsius)')\n",
        "plt.title('AR Model Predictions with Lag k=' + str(maxlag))\n",
        "plt.legend()\n",
        "plt.show()"
      ],
      "metadata": {
        "id": "ACA1esuMzlVS",
        "outputId": "875e3b96-c025-4344-ffd5-cfd71e1fc276",
        "colab": {
          "base_uri": "https://localhost:8080/",
          "height": 295
        }
      },
      "execution_count": 78,
      "outputs": [
        {
          "output_type": "display_data",
          "data": {
            "text/plain": [
              "<Figure size 432x288 with 1 Axes>"
            ],
            "image/png": "[encoded data removed]"
          },
          "metadata": {
            "needs_background": "light"
          }
        }
      ]
    },
    {
      "cell_type": "code",
      "source": [
        "maxlag = 365\n",
        "\n",
        "ar = AR(train)\n",
        "arfit = ar.fit(maxlag=maxlag)\n",
        "# Add predictions to the test dataframe and visualize the model\n",
        "test_dates = test.index[-7:]\n",
        "\n",
        "predictions = arfit.predict(start=3643, end=3649)\n",
        "\n",
        "# Convert x values to dates to plot on same plot\n",
        "predictions_df = pd.DataFrame({'date': test_dates, 'predictions': predictions})\n",
        "# Plot the true values and the predictions\n",
        "plt.plot(test, label='True Values')\n",
        "plt.plot(predictions_df['date'], predictions_df['predictions'], label='Predictions')\n",
        "plt.xlabel('Day')\n",
        "plt.ylabel('Minimum Temperature (Celsius)')\n",
        "plt.title('AR Model Predictions with Lag k=' + str(maxlag))\n",
        "plt.legend()\n",
        "plt.show()"
      ],
      "metadata": {
        "id": "Xv3JYAAjzn8y",
        "outputId": "31462c87-dc74-4821-e7d4-25223a009950",
        "colab": {
          "base_uri": "https://localhost:8080/",
          "height": 295
        }
      },
      "execution_count": 79,
      "outputs": [
        {
          "output_type": "display_data",
          "data": {
            "text/plain": [
              "<Figure size 432x288 with 1 Axes>"
            ],
            "image/png": "[encoded data removed]"
          },
          "metadata": {
            "needs_background": "light"
          }
        }
      ]
    },
    {
      "cell_type": "markdown",
      "source": [
        "As we see here, the more maxlag we had, the better the prediction was for the AR model. Specifically, with maxlag of 1-20, we had very little fitting to the prediction, but with 50 we noticed that the first few values were much closer to their expected values. Using maxlag=365, we see a solid output with the prediction being extremely close at first, then a half degree (C) off until the second to last day."
      ],
      "metadata": {
        "id": "AzTU3snwzrRh"
      }
    }
  ]
}